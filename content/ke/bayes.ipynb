{
 "cells": [
  {
   "cell_type": "code",
   "execution_count": 13,
   "metadata": {},
   "outputs": [],
   "source": [
    "import bayes as bayes;\n",
    "\n"
   ]
  },
  {
   "cell_type": "code",
   "execution_count": 24,
   "metadata": {},
   "outputs": [
    {
     "name": "stdout",
     "output_type": "stream",
     "text": [
      "['love', 'my', 'dalmation'] classified as:  0\n",
      "['stupid', 'garbage'] classified as:  1\n"
     ]
    }
   ],
   "source": [
    "bayes.testingNB();"
   ]
  },
  {
   "cell_type": "code",
   "execution_count": 1,
   "metadata": {},
   "outputs": [
    {
     "name": "stdout",
     "output_type": "stream",
     "text": [
      "trainingSet in random before:\n",
      "[0, 1, 2, 3, 4, 5, 6, 7, 8, 9, 10, 11, 12, 13, 14, 15, 16, 17, 18, 19, 20, 21, 22, 23, 24, 25, 26, 27, 28, 29, 30, 31, 32, 33, 34, 35, 36, 37, 38, 39, 40, 41, 42, 43, 44, 45, 46, 47, 48, 49]\n",
      "trainingSet in random after:\n",
      "[0, 1, 2, 3, 4, 5, 6, 9, 11, 12, 13, 14, 15, 16, 17, 18, 19, 20, 22, 23, 24, 26, 27, 29, 31, 32, 34, 36, 37, 38, 39, 40, 41, 42, 43, 44, 45, 46, 48, 49]\n",
      "testSet in random after:\n",
      "[21, 8, 25, 28, 33, 7, 30, 10, 47, 35]\n",
      "classification error ['benoit', 'mandelbrot', '1924', '2010', 'benoit', 'mandelbrot', '1924', '2010', 'wilmott', 'team', 'benoit', 'mandelbrot', 'the', 'mathematician', 'the', 'father', 'fractal', 'mathematics', 'and', 'advocate', 'more', 'sophisticated', 'modelling', 'quantitative', 'finance', 'died', '14th', 'october', '2010', 'aged', 'wilmott', 'magazine', 'has', 'often', 'featured', 'mandelbrot', 'his', 'ideas', 'and', 'the', 'work', 'others', 'inspired', 'his', 'fundamental', 'insights', 'you', 'must', 'logged', 'view', 'these', 'articles', 'from', 'past', 'issues', 'wilmott', 'magazine']\n",
      "the error rate is:  0.1\n"
     ]
    }
   ],
   "source": [
    "import bayes as bayes;\n",
    "bayes.spamTest();"
   ]
  },
  {
   "cell_type": "code",
   "execution_count": 1,
   "metadata": {},
   "outputs": [
    {
     "ename": "ModuleNotFoundError",
     "evalue": "No module named 'latexify'",
     "output_type": "error",
     "traceback": [
      "\u001b[0;31m---------------------------------------------------------------------------\u001b[0m",
      "\u001b[0;31mModuleNotFoundError\u001b[0m                       Traceback (most recent call last)",
      "Cell \u001b[0;32mIn[1], line 2\u001b[0m\n\u001b[1;32m      1\u001b[0m \u001b[39mimport\u001b[39;00m \u001b[39mmath\u001b[39;00m\t\t\t\t\u001b[39m#引入数学模块(有些运算的函数需要)\u001b[39;00m\n\u001b[0;32m----> 2\u001b[0m \u001b[39mimport\u001b[39;00m \u001b[39mlatexify\u001b[39;00m\t\t\t\u001b[39m#引入latexify模块\u001b[39;00m\n\u001b[1;32m      4\u001b[0m \u001b[39m@latexify\u001b[39m\u001b[39m.\u001b[39mwith_latex\t\u001b[39m#特定语法，表示之后定义的函数可以转化为LaTeX代码\u001b[39;00m\n\u001b[1;32m      5\u001b[0m \u001b[39mdef\u001b[39;00m \u001b[39mf\u001b[39m(x,y,z):\t\t    \u001b[39m#包含的参数\u001b[39;00m\n\u001b[1;32m      6\u001b[0m     \u001b[39mpass\u001b[39;00m\t\t\t    \u001b[39m#此处填写可能需要的数学表达式\u001b[39;00m\n",
      "\u001b[0;31mModuleNotFoundError\u001b[0m: No module named 'latexify'"
     ]
    }
   ],
   "source": [
    "import math\t\t\t\t#引入数学模块(有些运算的函数需要)\n",
    "import latexify\t\t\t#引入latexify模块\n",
    "\n",
    "@latexify.with_latex\t#特定语法，表示之后定义的函数可以转化为LaTeX代码\n",
    "def f(x,y,z):\t\t    #包含的参数\n",
    "    pass\t\t\t    #此处填写可能需要的数学表达式\n",
    "    return result\t\t#也可以直接体现数学关系\n",
    "\n",
    "print(f)"
   ]
  },
  {
   "cell_type": "code",
   "execution_count": null,
   "metadata": {},
   "outputs": [],
   "source": [
    "# https://github.com/google/latexify_py\n",
    "\n",
    "import math\n",
    "import latexify\n",
    "#① 加减乘除、分数\n",
    "@latexify.with_latex\n",
    "def f(x):\n",
    "    return (2 * x + 6) / 5\n",
    "\n",
    "print(f)\n",
    "# ②分段函数\n",
    "@latexify.with_latex\n",
    "def f(x):\n",
    "    if (x > 0):\n",
    "        return x\n",
    "    else:\n",
    "        return 0\n",
    "print(f)\n",
    "\n",
    "\n",
    "\n",
    "# ③根号、幂\n",
    "@latexify.with_latex\n",
    "def f(a,b,c):\n",
    "    return math.sqrt(b**2-4*a*c)\n",
    "\n",
    "print(f)\n",
    "\n",
    "# ④三角函数\n",
    "@latexify.with_latex\n",
    "def f(x,y):\n",
    "    return math.sin(x+y)\n",
    "\n",
    "print(f)\n",
    "\n",
    "# ⑤绝对值\n",
    "@latexify.with_latex\n",
    "def f(x):\n",
    "    return abs(x)\n",
    "\n",
    "print(f)\n",
    "\n",
    "# ⑥对数\n",
    "@latexify.with_latex\n",
    "def f(x,y):\n",
    "    return math.log2(x+y)\n",
    "\n",
    "print(f)\n"
   ]
  }
 ],
 "metadata": {
  "kernelspec": {
   "display_name": "Python 3",
   "language": "python",
   "name": "python3"
  },
  "language_info": {
   "codemirror_mode": {
    "name": "ipython",
    "version": 3
   },
   "file_extension": ".py",
   "mimetype": "text/x-python",
   "name": "python",
   "nbconvert_exporter": "python",
   "pygments_lexer": "ipython3",
   "version": "3.11.1"
  },
  "orig_nbformat": 4
 },
 "nbformat": 4,
 "nbformat_minor": 2
}

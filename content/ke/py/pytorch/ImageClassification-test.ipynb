{
 "cells": [
  {
   "cell_type": "code",
   "execution_count": 59,
   "metadata": {},
   "outputs": [],
   "source": [
    "import torch\n",
    "import torch.nn as nn\n",
    "import torch.nn.functional as F\n",
    "import torchvision\n",
    "import torchvision.transforms as transforms"
   ]
  },
  {
   "cell_type": "code",
   "execution_count": 60,
   "metadata": {},
   "outputs": [],
   "source": [
    "transform = transforms.Compose(\n",
    "    [transforms.ToTensor(),\n",
    "     transforms.Normalize((0.5, 0.5, 0.5), (0.5, 0.5, 0.5))])"
   ]
  },
  {
   "cell_type": "code",
   "execution_count": 61,
   "metadata": {
    "scrolled": true
   },
   "outputs": [
    {
     "name": "stdout",
     "output_type": "stream",
     "text": [
      "Files already downloaded and verified\n"
     ]
    }
   ],
   "source": [
    "cifar_train = torchvision.datasets.CIFAR10(root='./data', train=True,\n",
    "                                           download=True, transform=transform)\n",
    "cifar_test = torchvision.datasets.CIFAR10(root='./data', train=False,\n",
    "                                          transform=transform)"
   ]
  },
  {
   "cell_type": "code",
   "execution_count": 62,
   "metadata": {},
   "outputs": [
    {
     "name": "stdout",
     "output_type": "stream",
     "text": [
      "Dataset CIFAR10\n",
      "    Number of datapoints: 50000\n",
      "    Root location: ./data\n",
      "    Split: Train\n",
      "    StandardTransform\n",
      "Transform: Compose(\n",
      "               ToTensor()\n",
      "               Normalize(mean=(0.5, 0.5, 0.5), std=(0.5, 0.5, 0.5))\n",
      "           )\n"
     ]
    }
   ],
   "source": [
    "print(cifar_train)"
   ]
  },
  {
   "cell_type": "code",
   "execution_count": 63,
   "metadata": {},
   "outputs": [
    {
     "name": "stdout",
     "output_type": "stream",
     "text": [
      "Dataset CIFAR10\n",
      "    Number of datapoints: 10000\n",
      "    Root location: ./data\n",
      "    Split: Test\n",
      "    StandardTransform\n",
      "Transform: Compose(\n",
      "               ToTensor()\n",
      "               Normalize(mean=(0.5, 0.5, 0.5), std=(0.5, 0.5, 0.5))\n",
      "           )\n"
     ]
    }
   ],
   "source": [
    "print(cifar_test)"
   ]
  },
  {
   "cell_type": "code",
   "execution_count": 64,
   "metadata": {},
   "outputs": [],
   "source": [
    "trainloader = torch.utils.data.DataLoader(cifar_train, batch_size=32, shuffle=True)\n",
    "testloader = torch.utils.data.DataLoader(cifar_test, batch_size=32, shuffle=True)"
   ]
  },
  {
   "cell_type": "markdown",
   "metadata": {},
   "source": [
    "# 代码练习部分，使用pytorch构建网络"
   ]
  },
  {
   "cell_type": "code",
   "execution_count": 65,
   "metadata": {},
   "outputs": [],
   "source": [
    "class LeNet(nn.Module):\n",
    "    # 一般在__init__中定义网络需要的操作算子，比如卷积、全连接算子等等\n",
    "    def __init__(self):\n",
    "        super(LeNet, self).__init__()\n",
    "        #此处进行代码练习\n",
    "        self.conv1=nn.Conv2d(3,10,3,padding=1,stride=1)\n",
    "        self.conv2=nn.Conv2d(10,20,3,padding=1,stride=1)\n",
    "        self.fc1 = nn.Linear(20*16*16,500)\n",
    "        self.fc2 = nn.Linear(500,10)\n",
    "    # 定义了前向传播的运算，只需要像写普通的python算数运算那样就可以了\n",
    "    def forward(self, x):\n",
    "        #进行代码练习\n",
    "        in_size = x.size(0)\n",
    "        out = self.conv1(x) #24\n",
    "        out = F.relu(out)\n",
    "        out = F.max_pool2d(out, 2, 2)  #12\n",
    "        out = self.conv2(out) #10\n",
    "        out = F.relu(out)\n",
    "        out = out.view(in_size,-1)\n",
    "        out = self.fc1(out)\n",
    "        out = F.relu(out)\n",
    "        out = self.fc2(out)\n",
    "        out = F.log_softmax(out,dim=1)\n",
    "        return out    \n",
    "        "
   ]
  },
  {
   "cell_type": "code",
   "execution_count": 66,
   "metadata": {},
   "outputs": [],
   "source": [
    "# 如果你没有GPU，那么可以忽略device相关的代码\n",
    "#device = torch.device(\"cuda:0\")\n",
    "#net = LeNet().to(device)"
   ]
  },
  {
   "cell_type": "code",
   "execution_count": 67,
   "metadata": {},
   "outputs": [],
   "source": [
    "import torch.optim as optim\n",
    "\n",
    "# CrossEntropyLoss就是我们需要的损失函数\n",
    "net = LeNet()\n",
    "criterion = nn.CrossEntropyLoss()\n",
    "optimizer = optim.SGD(net.parameters(), lr=0.001, momentum=0.9)"
   ]
  },
  {
   "cell_type": "code",
   "execution_count": 68,
   "metadata": {
    "scrolled": true
   },
   "outputs": [
    {
     "name": "stdout",
     "output_type": "stream",
     "text": [
      "Start Training...\n",
      "[Epoch 1, Batch   100] loss: 2.298\n",
      "[Epoch 1, Batch   200] loss: 2.277\n",
      "[Epoch 1, Batch   300] loss: 2.224\n",
      "[Epoch 1, Batch   400] loss: 2.130\n",
      "[Epoch 1, Batch   500] loss: 2.019\n",
      "[Epoch 1, Batch   600] loss: 1.953\n",
      "[Epoch 1, Batch   700] loss: 1.923\n",
      "[Epoch 1, Batch   800] loss: 1.899\n",
      "[Epoch 1, Batch   900] loss: 1.837\n",
      "[Epoch 1, Batch  1000] loss: 1.801\n",
      "[Epoch 1, Batch  1100] loss: 1.779\n",
      "[Epoch 1, Batch  1200] loss: 1.762\n",
      "[Epoch 1, Batch  1300] loss: 1.744\n",
      "[Epoch 1, Batch  1400] loss: 1.702\n",
      "[Epoch 1, Batch  1500] loss: 1.685\n",
      "[Epoch 2, Batch   100] loss: 1.644\n",
      "[Epoch 2, Batch   200] loss: 1.619\n",
      "[Epoch 2, Batch   300] loss: 1.572\n",
      "[Epoch 2, Batch   400] loss: 1.565\n",
      "[Epoch 2, Batch   500] loss: 1.504\n",
      "[Epoch 2, Batch   600] loss: 1.503\n",
      "[Epoch 2, Batch   700] loss: 1.515\n",
      "[Epoch 2, Batch   800] loss: 1.480\n",
      "[Epoch 2, Batch   900] loss: 1.454\n",
      "[Epoch 2, Batch  1000] loss: 1.462\n",
      "[Epoch 2, Batch  1100] loss: 1.438\n",
      "[Epoch 2, Batch  1200] loss: 1.432\n",
      "[Epoch 2, Batch  1300] loss: 1.412\n",
      "[Epoch 2, Batch  1400] loss: 1.369\n",
      "[Epoch 2, Batch  1500] loss: 1.355\n",
      "[Epoch 3, Batch   100] loss: 1.347\n",
      "[Epoch 3, Batch   200] loss: 1.295\n",
      "[Epoch 3, Batch   300] loss: 1.349\n",
      "[Epoch 3, Batch   400] loss: 1.309\n",
      "[Epoch 3, Batch   500] loss: 1.298\n",
      "[Epoch 3, Batch   600] loss: 1.318\n",
      "[Epoch 3, Batch   700] loss: 1.313\n",
      "[Epoch 3, Batch   800] loss: 1.296\n",
      "[Epoch 3, Batch   900] loss: 1.261\n",
      "[Epoch 3, Batch  1000] loss: 1.250\n",
      "[Epoch 3, Batch  1100] loss: 1.307\n",
      "[Epoch 3, Batch  1200] loss: 1.241\n",
      "[Epoch 3, Batch  1300] loss: 1.286\n",
      "[Epoch 3, Batch  1400] loss: 1.215\n",
      "[Epoch 3, Batch  1500] loss: 1.246\n",
      "[Epoch 4, Batch   100] loss: 1.177\n",
      "[Epoch 4, Batch   200] loss: 1.227\n",
      "[Epoch 4, Batch   300] loss: 1.204\n",
      "[Epoch 4, Batch   400] loss: 1.193\n",
      "[Epoch 4, Batch   500] loss: 1.181\n",
      "[Epoch 4, Batch   600] loss: 1.190\n",
      "[Epoch 4, Batch   700] loss: 1.191\n",
      "[Epoch 4, Batch   800] loss: 1.170\n",
      "[Epoch 4, Batch   900] loss: 1.170\n",
      "[Epoch 4, Batch  1000] loss: 1.131\n",
      "[Epoch 4, Batch  1100] loss: 1.164\n",
      "[Epoch 4, Batch  1200] loss: 1.186\n",
      "[Epoch 4, Batch  1300] loss: 1.154\n",
      "[Epoch 4, Batch  1400] loss: 1.161\n",
      "[Epoch 4, Batch  1500] loss: 1.166\n",
      "[Epoch 5, Batch   100] loss: 1.104\n",
      "[Epoch 5, Batch   200] loss: 1.077\n",
      "[Epoch 5, Batch   300] loss: 1.062\n",
      "[Epoch 5, Batch   400] loss: 1.103\n",
      "[Epoch 5, Batch   500] loss: 1.071\n",
      "[Epoch 5, Batch   600] loss: 1.052\n",
      "[Epoch 5, Batch   700] loss: 1.111\n",
      "[Epoch 5, Batch   800] loss: 1.061\n",
      "[Epoch 5, Batch   900] loss: 1.075\n",
      "[Epoch 5, Batch  1000] loss: 1.122\n",
      "[Epoch 5, Batch  1100] loss: 1.074\n",
      "[Epoch 5, Batch  1200] loss: 1.076\n",
      "[Epoch 5, Batch  1300] loss: 1.088\n",
      "[Epoch 5, Batch  1400] loss: 1.071\n",
      "[Epoch 5, Batch  1500] loss: 1.092\n",
      "Done Training!\n"
     ]
    }
   ],
   "source": [
    "print(\"Start Training...\")\n",
    "for epoch in range(5):\n",
    "    # 用一个变量来记录每100个batch的平均loss\n",
    "    loss100 = 0.0\n",
    "    # 使用dataloader操作数据\n",
    "    for i, data in enumerate(trainloader):\n",
    "        inputs, labels = data\n",
    "  #      inputs, labels = inputs.to(device), labels.to(device) # 注意需要复制到GPU\n",
    "        optimizer.zero_grad()\n",
    "        outputs = net(inputs)\n",
    "        loss = criterion(outputs, labels)\n",
    "        loss.backward()\n",
    "        optimizer.step()\n",
    "        loss100 += loss.item()\n",
    "        if i % 100 == 99:\n",
    "            print('[Epoch %d, Batch %5d] loss: %.3f' %\n",
    "                  (epoch + 1, i + 1, loss100 / 100))\n",
    "            loss100 = 0.0\n",
    "\n",
    "print(\"Done Training!\")"
   ]
  },
  {
   "cell_type": "code",
   "execution_count": 69,
   "metadata": {},
   "outputs": [],
   "source": [
    "# 首先要把梯度清零，不然PyTorch每次计算梯度会累加，不清零的话第二次算的梯度等于第一次加第二次的       \n",
    "optimizer.zero_grad()\n",
    "# 计算前向传播的输出\n",
    "outputs = net(inputs)\n",
    "# 根据输出计算loss\n",
    "loss = criterion(outputs, labels)\n",
    "# 算完loss之后进行反向梯度传播，这个过程之后梯度会记录在变量中\n",
    "loss.backward()\n",
    "# 用计算的梯度去做优化\n",
    "optimizer.step()"
   ]
  },
  {
   "cell_type": "code",
   "execution_count": 70,
   "metadata": {},
   "outputs": [
    {
     "name": "stdout",
     "output_type": "stream",
     "text": [
      "Accuracy of the network on the 10000 test images: 60 %\n"
     ]
    }
   ],
   "source": [
    "# 构造测试的dataloader\n",
    "dataiter = iter(testloader)\n",
    "# 预测正确的数量和总数量\n",
    "correct = 0\n",
    "total = 0\n",
    "# 使用torch.no_grad的话在前向传播中不记录梯度，节省内存\n",
    "with torch.no_grad():\n",
    "    for data in testloader:\n",
    "        images, labels = data\n",
    "        #images, labels = images.to(device), labels.to(device)\n",
    "        # 预测\n",
    "        outputs = net(images)\n",
    "        # 我们的网络输出的实际上是个概率分布，去最大概率的哪一项作为预测分类\n",
    "        _, predicted = torch.max(outputs.data, 1)\n",
    "        total += labels.size(0)\n",
    "        correct += (predicted == labels).sum().item()\n",
    "\n",
    "print('Accuracy of the network on the 10000 test images: %d %%' % (100 * correct / total))"
   ]
  },
  {
   "cell_type": "code",
   "execution_count": null,
   "metadata": {},
   "outputs": [],
   "source": []
  }
 ],
 "metadata": {
  "kernelspec": {
   "display_name": "Python 3",
   "language": "python",
   "name": "python3"
  },
  "language_info": {
   "codemirror_mode": {
    "name": "ipython",
    "version": 3
   },
   "file_extension": ".py",
   "mimetype": "text/x-python",
   "name": "python",
   "nbconvert_exporter": "python",
   "pygments_lexer": "ipython3",
   "version": "3.7.7"
  }
 },
 "nbformat": 4,
 "nbformat_minor": 4
}

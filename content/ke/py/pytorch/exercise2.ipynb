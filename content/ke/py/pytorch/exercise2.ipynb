{
 "cells": [
  {
   "cell_type": "markdown",
   "metadata": {},
   "source": [
    "# 创建tensor"
   ]
  },
  {
   "cell_type": "code",
   "execution_count": 2,
   "metadata": {},
   "outputs": [
    {
     "data": {
      "text/plain": [
       "tensor([2, 2, 2], dtype=torch.int32)"
      ]
     },
     "execution_count": 2,
     "metadata": {},
     "output_type": "execute_result"
    }
   ],
   "source": [
    "#numpy -> tensor\n",
    "import numpy as np\n",
    "import torch\n",
    "a = np.array([2, 2, 2]) # 创建一个数组\n",
    "b = torch.from_numpy(a) #从numpy数据转换成tensor\n",
    "b"
   ]
  },
  {
   "cell_type": "code",
   "execution_count": 3,
   "metadata": {},
   "outputs": [
    {
     "data": {
      "text/plain": [
       "tensor([[1, 2],\n",
       "        [3, 4]])"
      ]
     },
     "execution_count": 3,
     "metadata": {},
     "output_type": "execute_result"
    }
   ],
   "source": [
    "a=torch.tensor([2,2]) #使用tensor()生成tensor\n",
    "b=torch.FloatTensor([2,2.]) #浮点型数据tensor\n",
    "c=torch.tensor([[1,2],[3,4]]) \n",
    "c"
   ]
  },
  {
   "cell_type": "code",
   "execution_count": 4,
   "metadata": {},
   "outputs": [
    {
     "data": {
      "text/plain": [
       "'torch.FloatTensor'"
      ]
     },
     "execution_count": 4,
     "metadata": {},
     "output_type": "execute_result"
    }
   ],
   "source": [
    "torch.empty(2,3)\n",
    "torch.Tensor(2,3) \n",
    "torch.IntTensor(2,3) #整数型\n",
    "torch.FloatTensor(2,3).type() #浮点型"
   ]
  },
  {
   "cell_type": "code",
   "execution_count": 5,
   "metadata": {},
   "outputs": [],
   "source": [
    "torch.set_default_tensor_type(torch.DoubleTensor) #设置默认数据类型，如float，double，int等"
   ]
  },
  {
   "cell_type": "code",
   "execution_count": 7,
   "metadata": {},
   "outputs": [
    {
     "data": {
      "text/plain": [
       "tensor([[9, 6, 5],\n",
       "        [1, 6, 8],\n",
       "        [8, 9, 6]])"
      ]
     },
     "execution_count": 7,
     "metadata": {},
     "output_type": "execute_result"
    }
   ],
   "source": [
    "#创建3*3的0到1均匀分布的矩阵\n",
    "a=torch.rand(3,3)\n",
    "#均值为0方差为1正态分布矩阵\n",
    "a=torch.randn(3,3)\n",
    "\n",
    "torch.rand_like(a)\n",
    "torch.rand(a.shape)\n",
    "\n",
    "#创建3*3的1到10随机分布的整数矩阵\n",
    "torch.randint(1,10,[3,3])"
   ]
  },
  {
   "cell_type": "code",
   "execution_count": 8,
   "metadata": {},
   "outputs": [
    {
     "data": {
      "text/plain": [
       "tensor([[0.1757, 0.2086, 0.5915],\n",
       "        [0.5274, 0.6592, 0.0241],\n",
       "        [0.4919, 0.8890, 0.5931]])"
      ]
     },
     "execution_count": 8,
     "metadata": {},
     "output_type": "execute_result"
    }
   ],
   "source": [
    "#创建3*3的0到1均匀分布的矩阵\n",
    "a=torch.rand(3,3)\n",
    "a"
   ]
  },
  {
   "cell_type": "code",
   "execution_count": 9,
   "metadata": {},
   "outputs": [
    {
     "data": {
      "text/plain": [
       "tensor([[-0.4229,  0.6569,  0.3413],\n",
       "        [-0.5939, -2.3641, -1.3791],\n",
       "        [-0.9201,  0.1007, -1.3902]])"
      ]
     },
     "execution_count": 9,
     "metadata": {},
     "output_type": "execute_result"
    }
   ],
   "source": [
    "a=torch.randn(3,3)\n",
    "a"
   ]
  },
  {
   "cell_type": "code",
   "execution_count": 10,
   "metadata": {},
   "outputs": [
    {
     "data": {
      "text/plain": [
       "tensor([[0.3021, 0.1819, 0.8952],\n",
       "        [0.3353, 0.6234, 0.9661],\n",
       "        [0.8168, 0.1822, 0.7740]])"
      ]
     },
     "execution_count": 10,
     "metadata": {},
     "output_type": "execute_result"
    }
   ],
   "source": [
    "a=torch.rand(3,3)\n",
    "a"
   ]
  },
  {
   "cell_type": "code",
   "execution_count": 11,
   "metadata": {},
   "outputs": [
    {
     "name": "stderr",
     "output_type": "stream",
     "text": [
      "..\\aten\\src\\ATen\\native\\TensorFactories.cpp:361: UserWarning: Deprecation warning: In a future PyTorch release torch.full will no longer return tensors of floating dtype by default. Instead, a bool fill_value will return a tensor of torch.bool dtype, and an integral fill_value will return a tensor of torch.long dtype. Set the optional `dtype` or `out` arguments to suppress this warning.\n"
     ]
    },
    {
     "data": {
      "text/plain": [
       "tensor([[2., 2., 2.],\n",
       "        [2., 2., 2.],\n",
       "        [2., 2., 2.]])"
      ]
     },
     "execution_count": 11,
     "metadata": {},
     "output_type": "execute_result"
    }
   ],
   "source": [
    "#生成3*3的全为1的矩阵\n",
    "a = torch.full([3,3],2)\n",
    "a"
   ]
  },
  {
   "cell_type": "code",
   "execution_count": 12,
   "metadata": {},
   "outputs": [
    {
     "data": {
      "text/plain": [
       "tensor(1.)"
      ]
     },
     "execution_count": 12,
     "metadata": {},
     "output_type": "execute_result"
    }
   ],
   "source": [
    "#生成标量1\n",
    "a = torch.full([],1)\n",
    "a"
   ]
  },
  {
   "cell_type": "code",
   "execution_count": 13,
   "metadata": {},
   "outputs": [
    {
     "data": {
      "text/plain": [
       "tensor([1., 1.])"
      ]
     },
     "execution_count": 13,
     "metadata": {},
     "output_type": "execute_result"
    }
   ],
   "source": [
    "a = torch.full([2],1)\n",
    "a "
   ]
  },
  {
   "cell_type": "code",
   "execution_count": 14,
   "metadata": {},
   "outputs": [
    {
     "data": {
      "text/plain": [
       "tensor([[[1., 1., 1., 1.],\n",
       "         [1., 1., 1., 1.],\n",
       "         [1., 1., 1., 1.]],\n",
       "\n",
       "        [[1., 1., 1., 1.],\n",
       "         [1., 1., 1., 1.],\n",
       "         [1., 1., 1., 1.]],\n",
       "\n",
       "        [[1., 1., 1., 1.],\n",
       "         [1., 1., 1., 1.],\n",
       "         [1., 1., 1., 1.]]])"
      ]
     },
     "execution_count": 14,
     "metadata": {},
     "output_type": "execute_result"
    }
   ],
   "source": [
    "a = torch.ones(3,3, 4)\n",
    "a "
   ]
  },
  {
   "cell_type": "code",
   "execution_count": 15,
   "metadata": {},
   "outputs": [
    {
     "data": {
      "text/plain": [
       "tensor([[0., 0., 0.],\n",
       "        [0., 0., 0.],\n",
       "        [0., 0., 0.]])"
      ]
     },
     "execution_count": 15,
     "metadata": {},
     "output_type": "execute_result"
    }
   ],
   "source": [
    "a = torch.zeros(3,3)\n",
    "a"
   ]
  },
  {
   "cell_type": "code",
   "execution_count": 16,
   "metadata": {},
   "outputs": [
    {
     "data": {
      "text/plain": [
       "tensor([[1., 0., 0.],\n",
       "        [0., 1., 0.],\n",
       "        [0., 0., 1.]])"
      ]
     },
     "execution_count": 16,
     "metadata": {},
     "output_type": "execute_result"
    }
   ],
   "source": [
    "#生成对角为1矩阵，若不是对角矩阵，则多余出用0填充\n",
    "a = torch.eye(3,3)\n",
    "a "
   ]
  },
  {
   "cell_type": "code",
   "execution_count": 17,
   "metadata": {},
   "outputs": [
    {
     "data": {
      "text/plain": [
       "tensor([[1., 0., 0.],\n",
       "        [0., 1., 0.],\n",
       "        [0., 0., 1.]])"
      ]
     },
     "execution_count": 17,
     "metadata": {},
     "output_type": "execute_result"
    }
   ],
   "source": [
    "a = torch.eye(3)\n",
    "a"
   ]
  },
  {
   "cell_type": "code",
   "execution_count": 18,
   "metadata": {},
   "outputs": [
    {
     "data": {
      "text/plain": [
       "tensor([0, 1, 2, 3, 4, 5, 6, 7, 8, 9])"
      ]
     },
     "execution_count": 18,
     "metadata": {},
     "output_type": "execute_result"
    }
   ],
   "source": [
    "#生成[0,1,2,3,4,5,6,7,8,9]\n",
    "a = torch.arange(0,10)\n",
    "a\n"
   ]
  },
  {
   "cell_type": "code",
   "execution_count": 19,
   "metadata": {},
   "outputs": [
    {
     "data": {
      "text/plain": [
       "tensor([0, 2, 4, 6, 8])"
      ]
     },
     "execution_count": 19,
     "metadata": {},
     "output_type": "execute_result"
    }
   ],
   "source": [
    "#生成增量为2的数列 \n",
    "b = torch.arange(0,10,2)\n",
    "b"
   ]
  },
  {
   "cell_type": "code",
   "execution_count": 20,
   "metadata": {},
   "outputs": [
    {
     "data": {
      "text/plain": [
       "tensor([0, 1, 2, 3, 4, 5, 6, 7, 8, 9])"
      ]
     },
     "execution_count": 20,
     "metadata": {},
     "output_type": "execute_result"
    }
   ],
   "source": [
    "a = torch.arange(10)\n",
    "a"
   ]
  },
  {
   "cell_type": "code",
   "execution_count": 21,
   "metadata": {},
   "outputs": [
    {
     "data": {
      "text/plain": [
       "tensor([ 0.0000,  3.3333,  6.6667, 10.0000])"
      ]
     },
     "execution_count": 21,
     "metadata": {},
     "output_type": "execute_result"
    }
   ],
   "source": [
    "a = torch.linspace(0,10,4)\n",
    "a"
   ]
  },
  {
   "cell_type": "code",
   "execution_count": 22,
   "metadata": {},
   "outputs": [
    {
     "data": {
      "text/plain": [
       "tensor([2, 0, 4, 6, 5, 1, 8, 9, 7, 3])"
      ]
     },
     "execution_count": 22,
     "metadata": {},
     "output_type": "execute_result"
    }
   ],
   "source": [
    "#生成0~9这10个数乱序的数组（常用作索引）\n",
    "a = torch.randperm(10)\n",
    "a "
   ]
  },
  {
   "cell_type": "code",
   "execution_count": 23,
   "metadata": {},
   "outputs": [
    {
     "data": {
      "text/plain": [
       "tensor(2)"
      ]
     },
     "execution_count": 23,
     "metadata": {},
     "output_type": "execute_result"
    }
   ],
   "source": [
    "a[0]"
   ]
  },
  {
   "cell_type": "code",
   "execution_count": 24,
   "metadata": {
    "scrolled": true
   },
   "outputs": [
    {
     "data": {
      "text/plain": [
       "tensor([[[[7.9731e-01, 9.1026e-01, 8.1812e-01,  ..., 7.7548e-01,\n",
       "           9.1193e-01, 9.1541e-01],\n",
       "          [3.6795e-01, 3.9442e-01, 8.8358e-01,  ..., 9.8782e-01,\n",
       "           2.3070e-01, 4.2078e-01],\n",
       "          [2.6930e-01, 8.9113e-01, 1.5420e-01,  ..., 2.2913e-02,\n",
       "           5.3810e-01, 8.1852e-01],\n",
       "          ...,\n",
       "          [2.6547e-02, 5.2327e-01, 5.6970e-01,  ..., 2.2582e-01,\n",
       "           8.7688e-01, 3.8426e-01],\n",
       "          [2.5095e-01, 2.1932e-01, 4.8813e-01,  ..., 3.1645e-01,\n",
       "           2.6028e-01, 3.3394e-01],\n",
       "          [5.1535e-01, 7.4806e-01, 8.6104e-01,  ..., 9.1896e-01,\n",
       "           9.6612e-01, 8.5139e-01]],\n",
       "\n",
       "         [[9.6568e-01, 1.8597e-01, 6.9883e-01,  ..., 6.5811e-01,\n",
       "           2.6325e-01, 5.9425e-01],\n",
       "          [1.8095e-01, 1.7900e-01, 8.8779e-01,  ..., 9.7805e-01,\n",
       "           7.2806e-01, 7.7465e-02],\n",
       "          [9.2812e-01, 7.7907e-01, 8.2100e-01,  ..., 6.7729e-01,\n",
       "           7.5326e-01, 7.4522e-01],\n",
       "          ...,\n",
       "          [4.3173e-02, 5.5415e-01, 7.1049e-01,  ..., 9.7453e-01,\n",
       "           6.1939e-01, 5.8967e-01],\n",
       "          [3.8538e-03, 5.7276e-02, 8.9513e-01,  ..., 4.4645e-01,\n",
       "           3.4901e-01, 1.4992e-01],\n",
       "          [2.3034e-01, 7.8415e-01, 1.4300e-01,  ..., 2.6922e-01,\n",
       "           1.2004e-01, 7.3243e-01]],\n",
       "\n",
       "         [[6.4709e-01, 2.5848e-01, 8.8434e-01,  ..., 1.7503e-01,\n",
       "           4.1900e-01, 7.0433e-01],\n",
       "          [9.4004e-01, 9.5381e-01, 9.7109e-01,  ..., 7.8024e-01,\n",
       "           5.0210e-01, 8.0890e-02],\n",
       "          [7.2478e-01, 3.9129e-01, 8.4255e-01,  ..., 3.4918e-01,\n",
       "           4.2891e-01, 9.7909e-01],\n",
       "          ...,\n",
       "          [2.4766e-01, 9.0825e-01, 3.5893e-01,  ..., 1.6051e-01,\n",
       "           2.7384e-02, 1.2894e-01],\n",
       "          [6.6815e-01, 4.2902e-01, 7.8452e-01,  ..., 9.1032e-01,\n",
       "           7.5437e-01, 9.5438e-02],\n",
       "          [4.2206e-01, 5.4546e-01, 5.1933e-01,  ..., 6.5775e-01,\n",
       "           2.2250e-01, 2.5488e-01]]],\n",
       "\n",
       "\n",
       "        [[[1.1039e-01, 2.3522e-01, 3.7552e-01,  ..., 7.4681e-01,\n",
       "           6.3582e-01, 9.3099e-01],\n",
       "          [9.2062e-01, 5.6548e-02, 5.0511e-01,  ..., 3.6975e-01,\n",
       "           8.6774e-01, 9.5325e-01],\n",
       "          [6.5937e-01, 6.8139e-01, 3.3836e-01,  ..., 8.7606e-01,\n",
       "           1.1669e-01, 9.1085e-01],\n",
       "          ...,\n",
       "          [2.5888e-01, 1.9152e-01, 8.4334e-01,  ..., 1.0088e-01,\n",
       "           5.1702e-01, 2.0116e-01],\n",
       "          [2.1712e-01, 4.8093e-01, 7.3709e-01,  ..., 4.4424e-01,\n",
       "           7.2524e-01, 8.2709e-01],\n",
       "          [2.8524e-01, 7.5897e-01, 3.2644e-01,  ..., 7.7390e-01,\n",
       "           6.7595e-01, 8.0434e-01]],\n",
       "\n",
       "         [[5.2356e-01, 1.6702e-01, 1.6350e-01,  ..., 5.2186e-01,\n",
       "           2.1952e-01, 6.2883e-01],\n",
       "          [5.6712e-01, 1.5029e-01, 2.1626e-01,  ..., 1.5137e-01,\n",
       "           2.2630e-01, 7.1749e-01],\n",
       "          [6.2660e-01, 3.0995e-01, 2.4093e-01,  ..., 3.2080e-01,\n",
       "           2.2213e-01, 3.7524e-01],\n",
       "          ...,\n",
       "          [9.6836e-01, 1.2946e-02, 7.8747e-01,  ..., 5.2340e-01,\n",
       "           2.5957e-01, 3.2752e-01],\n",
       "          [7.4848e-01, 7.1107e-01, 5.0100e-01,  ..., 7.3294e-01,\n",
       "           2.3814e-01, 7.5769e-01],\n",
       "          [5.0090e-01, 8.8004e-01, 2.6878e-02,  ..., 2.9118e-01,\n",
       "           1.3577e-01, 9.2043e-01]],\n",
       "\n",
       "         [[5.6306e-01, 5.9897e-01, 4.3648e-01,  ..., 6.0917e-01,\n",
       "           6.3810e-02, 2.3554e-01],\n",
       "          [5.4970e-01, 1.9346e-01, 9.7518e-01,  ..., 1.2390e-01,\n",
       "           5.0207e-01, 3.5965e-01],\n",
       "          [4.0010e-01, 7.8685e-01, 6.9726e-01,  ..., 2.2782e-01,\n",
       "           8.1261e-01, 3.4336e-01],\n",
       "          ...,\n",
       "          [4.7349e-01, 4.4639e-01, 3.9981e-01,  ..., 1.8729e-01,\n",
       "           9.9554e-01, 1.9775e-01],\n",
       "          [4.5542e-02, 2.5972e-02, 1.2827e-01,  ..., 3.1845e-01,\n",
       "           6.9924e-01, 4.7664e-01],\n",
       "          [5.4318e-01, 9.0764e-01, 7.9977e-02,  ..., 6.5304e-01,\n",
       "           7.2912e-01, 9.2127e-01]]],\n",
       "\n",
       "\n",
       "        [[[2.8674e-01, 6.4720e-01, 7.0055e-01,  ..., 4.7809e-04,\n",
       "           8.5090e-02, 3.2720e-01],\n",
       "          [5.1141e-01, 9.3689e-01, 9.2368e-01,  ..., 1.7824e-01,\n",
       "           9.5931e-01, 6.4694e-01],\n",
       "          [4.3817e-01, 8.9406e-01, 3.0698e-01,  ..., 4.8539e-01,\n",
       "           1.1543e-01, 9.3637e-01],\n",
       "          ...,\n",
       "          [3.7006e-01, 9.0893e-01, 3.2961e-01,  ..., 3.1363e-01,\n",
       "           2.0650e-01, 1.8943e-01],\n",
       "          [4.4464e-02, 9.2683e-01, 1.1884e-01,  ..., 5.9917e-01,\n",
       "           2.3495e-01, 7.5220e-01],\n",
       "          [9.5291e-01, 1.1628e-01, 8.4179e-01,  ..., 1.6991e-01,\n",
       "           8.9904e-01, 3.9561e-02]],\n",
       "\n",
       "         [[9.0971e-02, 4.6474e-01, 1.3133e-01,  ..., 8.2480e-01,\n",
       "           7.0122e-02, 2.7829e-02],\n",
       "          [9.4698e-01, 2.6000e-01, 7.9984e-01,  ..., 3.6390e-01,\n",
       "           5.2437e-01, 7.8137e-01],\n",
       "          [1.5397e-01, 9.8957e-01, 2.1782e-01,  ..., 8.6364e-01,\n",
       "           9.2657e-01, 5.4920e-01],\n",
       "          ...,\n",
       "          [3.0704e-01, 9.9478e-01, 5.8035e-02,  ..., 6.1440e-02,\n",
       "           7.3133e-01, 7.0364e-02],\n",
       "          [5.4213e-01, 2.2836e-01, 5.4420e-01,  ..., 9.1084e-01,\n",
       "           8.5772e-01, 7.9243e-01],\n",
       "          [9.9363e-01, 4.0366e-01, 4.1089e-03,  ..., 7.9593e-01,\n",
       "           1.9666e-01, 1.6564e-01]],\n",
       "\n",
       "         [[2.3837e-01, 1.6331e-01, 9.6555e-01,  ..., 1.5957e-01,\n",
       "           7.5600e-01, 3.5753e-01],\n",
       "          [3.5192e-01, 7.3125e-01, 6.8303e-01,  ..., 1.2168e-01,\n",
       "           3.0281e-02, 1.5672e-01],\n",
       "          [1.6266e-01, 2.2182e-01, 1.1573e-01,  ..., 6.0589e-01,\n",
       "           9.8631e-01, 2.5882e-01],\n",
       "          ...,\n",
       "          [3.7627e-01, 3.0354e-01, 8.9409e-01,  ..., 1.7501e-01,\n",
       "           9.5777e-01, 2.1546e-01],\n",
       "          [9.7866e-01, 3.4540e-01, 4.7153e-01,  ..., 4.0099e-01,\n",
       "           9.2654e-01, 2.8849e-01],\n",
       "          [6.0859e-01, 4.0876e-01, 3.4699e-02,  ..., 3.8135e-01,\n",
       "           9.2814e-01, 5.8479e-01]]],\n",
       "\n",
       "\n",
       "        [[[5.3931e-01, 2.9670e-01, 6.8736e-01,  ..., 3.8300e-01,\n",
       "           6.2356e-01, 7.7879e-01],\n",
       "          [3.9918e-01, 1.8040e-01, 5.0120e-01,  ..., 4.5636e-01,\n",
       "           6.2241e-02, 5.5480e-01],\n",
       "          [8.0914e-01, 5.5960e-01, 5.2002e-01,  ..., 1.7514e-01,\n",
       "           8.3726e-01, 1.1774e-01],\n",
       "          ...,\n",
       "          [9.4885e-01, 2.3446e-01, 9.8896e-01,  ..., 7.1590e-01,\n",
       "           7.6386e-01, 7.4704e-01],\n",
       "          [3.0729e-01, 8.3933e-01, 7.4800e-01,  ..., 1.3774e-01,\n",
       "           7.4169e-02, 8.6970e-01],\n",
       "          [9.1787e-01, 8.6258e-01, 7.0535e-01,  ..., 8.9354e-01,\n",
       "           4.0574e-01, 2.5951e-01]],\n",
       "\n",
       "         [[1.5452e-01, 4.6201e-01, 5.6136e-01,  ..., 5.9826e-02,\n",
       "           5.2796e-01, 5.1390e-02],\n",
       "          [7.6759e-02, 9.5355e-01, 8.3214e-01,  ..., 4.3594e-01,\n",
       "           9.4523e-01, 5.5053e-01],\n",
       "          [2.8313e-01, 3.5486e-01, 4.1419e-01,  ..., 6.2327e-01,\n",
       "           6.4466e-01, 6.0669e-01],\n",
       "          ...,\n",
       "          [2.8299e-01, 2.0239e-01, 9.2733e-01,  ..., 4.5791e-01,\n",
       "           6.1134e-01, 7.6539e-01],\n",
       "          [1.8451e-01, 7.0416e-01, 7.6907e-01,  ..., 7.3473e-01,\n",
       "           7.1301e-01, 8.3576e-01],\n",
       "          [2.4851e-01, 7.8379e-01, 7.8890e-01,  ..., 8.1216e-01,\n",
       "           8.9070e-01, 1.4499e-01]],\n",
       "\n",
       "         [[9.0922e-01, 8.1016e-01, 4.2409e-01,  ..., 8.4501e-01,\n",
       "           8.6932e-01, 3.8147e-02],\n",
       "          [8.2715e-01, 2.9032e-01, 1.0736e-01,  ..., 9.2710e-01,\n",
       "           7.1228e-01, 9.7828e-01],\n",
       "          [3.8533e-01, 5.4345e-01, 4.6224e-01,  ..., 4.4918e-01,\n",
       "           1.2714e-01, 4.2185e-01],\n",
       "          ...,\n",
       "          [7.0789e-01, 2.0449e-01, 5.4032e-01,  ..., 3.9644e-01,\n",
       "           1.0747e-01, 8.6148e-01],\n",
       "          [2.2405e-01, 4.3956e-01, 4.9902e-01,  ..., 7.1849e-01,\n",
       "           5.3403e-01, 2.1515e-01],\n",
       "          [9.0920e-01, 7.3268e-01, 7.8946e-01,  ..., 4.8243e-01,\n",
       "           2.0727e-01, 5.8143e-01]]]])"
      ]
     },
     "execution_count": 24,
     "metadata": {},
     "output_type": "execute_result"
    }
   ],
   "source": [
    "a=torch.rand(4,3,28,64)\n",
    "a"
   ]
  },
  {
   "cell_type": "code",
   "execution_count": 25,
   "metadata": {},
   "outputs": [
    {
     "data": {
      "text/plain": [
       "tensor([[2., 2.],\n",
       "        [2., 2.]])"
      ]
     },
     "execution_count": 25,
     "metadata": {},
     "output_type": "execute_result"
    }
   ],
   "source": [
    "a=torch.full([2,2],2)\n",
    "a"
   ]
  },
  {
   "cell_type": "code",
   "execution_count": 26,
   "metadata": {},
   "outputs": [
    {
     "data": {
      "text/plain": [
       "tensor([[4., 4.],\n",
       "        [4., 4.]])"
      ]
     },
     "execution_count": 26,
     "metadata": {},
     "output_type": "execute_result"
    }
   ],
   "source": [
    "a.pow(2)"
   ]
  },
  {
   "cell_type": "code",
   "execution_count": 27,
   "metadata": {},
   "outputs": [
    {
     "data": {
      "text/plain": [
       "tensor([[2., 2.],\n",
       "        [2., 2.]])"
      ]
     },
     "execution_count": 27,
     "metadata": {},
     "output_type": "execute_result"
    }
   ],
   "source": [
    "a.sqrt()\n",
    "a"
   ]
  },
  {
   "cell_type": "code",
   "execution_count": 33,
   "metadata": {},
   "outputs": [
    {
     "data": {
      "text/plain": [
       "tensor(2.)"
      ]
     },
     "execution_count": 33,
     "metadata": {},
     "output_type": "execute_result"
    }
   ],
   "source": [
    "a.min()"
   ]
  },
  {
   "cell_type": "code",
   "execution_count": 34,
   "metadata": {},
   "outputs": [
    {
     "data": {
      "text/plain": [
       "tensor(2.)"
      ]
     },
     "execution_count": 34,
     "metadata": {},
     "output_type": "execute_result"
    }
   ],
   "source": [
    "a.max()"
   ]
  },
  {
   "cell_type": "code",
   "execution_count": 35,
   "metadata": {},
   "outputs": [
    {
     "data": {
      "text/plain": [
       "tensor(3)"
      ]
     },
     "execution_count": 35,
     "metadata": {},
     "output_type": "execute_result"
    }
   ],
   "source": [
    "a.argmax()"
   ]
  },
  {
   "cell_type": "code",
   "execution_count": 36,
   "metadata": {},
   "outputs": [
    {
     "data": {
      "text/plain": [
       "tensor(3)"
      ]
     },
     "execution_count": 36,
     "metadata": {},
     "output_type": "execute_result"
    }
   ],
   "source": [
    "a.argmin()"
   ]
  },
  {
   "cell_type": "code",
   "execution_count": 37,
   "metadata": {},
   "outputs": [
    {
     "data": {
      "text/plain": [
       "tensor(8.)"
      ]
     },
     "execution_count": 37,
     "metadata": {},
     "output_type": "execute_result"
    }
   ],
   "source": [
    "a.sum()"
   ]
  },
  {
   "cell_type": "code",
   "execution_count": 42,
   "metadata": {},
   "outputs": [
    {
     "data": {
      "text/plain": [
       "torch.return_types.topk(\n",
       "values=tensor([[2., 2.],\n",
       "        [2., 2.]]),\n",
       "indices=tensor([[0, 1],\n",
       "        [0, 1]]))"
      ]
     },
     "execution_count": 42,
     "metadata": {},
     "output_type": "execute_result"
    }
   ],
   "source": [
    "a.topk(2)"
   ]
  },
  {
   "cell_type": "code",
   "execution_count": null,
   "metadata": {},
   "outputs": [],
   "source": []
  }
 ],
 "metadata": {
  "kernelspec": {
   "display_name": "Python 3",
   "language": "python",
   "name": "python3"
  },
  "language_info": {
   "codemirror_mode": {
    "name": "ipython",
    "version": 3
   },
   "file_extension": ".py",
   "mimetype": "text/x-python",
   "name": "python",
   "nbconvert_exporter": "python",
   "pygments_lexer": "ipython3",
   "version": "3.7.7"
  }
 },
 "nbformat": 4,
 "nbformat_minor": 4
}

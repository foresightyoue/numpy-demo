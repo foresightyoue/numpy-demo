{
 "cells": [
  {
   "cell_type": "markdown",
   "id": "8fe5964d-e9bc-4071-866b-93a36dc0bf05",
   "metadata": {},
   "source": [
    "# Quick introduction to Jupyter notebook\n",
    "\n",
    "to run Jupyter notebook in your terminal type: <br>\n",
    "    `jupyter notebook`\n",
    "    \n",
    "**Esc** : takes you into command mode, there you can use:\n",
    "\n",
    " -  __a__ : insert a new cell above <br>\n",
    " -  __b__ : insert a new cell below <br>\n",
    " -  **m** : change the current cell to Markdown <br>\n",
    " -  **y** : change the current cell to code\n",
    "\n",
    "**Enter** : go back to edit mode\n",
    "    \n",
    "**Shift + Enter** : execute the cell, move to the cell below"
   ]
  },
  {
   "cell_type": "markdown",
   "id": "98719fc1-abd6-4d48-bef4-4327ab3059c7",
   "metadata": {},
   "source": [
    "# 1. Introduction to numpy"
   ]
  },
  {
   "cell_type": "markdown",
   "id": "0617372c-c914-4927-b693-4548d70fee36",
   "metadata": {},
   "source": [
    "__numpy array__ <br>\n",
    "NumPy array is a data container. It is similar to Python lists, but it’s specialised for working on numerical data. NumPy is at the center of scientific Python ecosystem and it is a work-horse of many scientific libraries including scikit-learn, scikit-image, matplotlib, SciPy.\n",
    "\n",
    "In general you should use this library if you want to do fancy things with **numbers**, especially if you have **matrices** or **arrays.** <br>\n",
    "\n",
    "To use NumPy we need to start python interpreter and import numpy package:"
   ]
  },
  {
   "cell_type": "code",
   "execution_count": null,
   "id": "f4230b0f-e896-4331-8557-b94a087c2a57",
   "metadata": {},
   "outputs": [],
   "source": [
    "import numpy as np"
   ]
  },
  {
   "cell_type": "markdown",
   "id": "97a3e5e1-160e-4ab4-8f95-b553709058c5",
   "metadata": {},
   "source": [
    "Let's create a simple numpy array"
   ]
  },
  {
   "cell_type": "code",
   "execution_count": null,
   "id": "f1bbfaef-ad7d-44e0-b295-e7bbac54cadc",
   "metadata": {},
   "outputs": [],
   "source": [
    "x = np.array([2, 1, 5])\n",
    "print(x)"
   ]
  },
  {
   "cell_type": "markdown",
   "id": "1d76d343-a7d4-4bf0-90e7-276bba179a16",
   "metadata": {},
   "source": [
    "### Lists vs Numpy arrays\n",
    "\n",
    "The Python core library provides Lists. A list is the Python equivalent of an array, but it is resizeable and can contain elements of different types.\n",
    "\n",
    "Pros of an array:\n",
    " - **Size** - Numpy data structures take up less space\n",
    " - **Performance** - faster than lists\n",
    " - **Functionality** - SciPy and NumPy have optimized functions such as linear algebra operations built in.\n",
    "\n",
    "### Memory layout\n",
    "\n",
    "NumPy array is just a memory block with extra information how to interpret its contents. \n",
    "\n",
    "To construct an array with pre-defined elements we can also use one of the built-in helper functions:"
   ]
  },
  {
   "cell_type": "markdown",
   "id": "3e59327a-6a51-41f7-bba6-7591292f8adb",
   "metadata": {},
   "source": [
    "__np.arange__ works like Python built-in range, but it returns an array; "
   ]
  },
  {
   "cell_type": "code",
   "execution_count": null,
   "id": "09b21398-a9f1-4f8e-8c94-e0c750870843",
   "metadata": {},
   "outputs": [],
   "source": [
    "np.arange(5)"
   ]
  },
  {
   "cell_type": "markdown",
   "id": "03d3c42d-6cdb-4cff-880b-ed648b3ff145",
   "metadata": {},
   "source": [
    "__np.ones__ and __np.zeros__ return arrays of 0s or 1s; "
   ]
  },
  {
   "cell_type": "code",
   "execution_count": null,
   "id": "7c5e375e-f787-47cb-9517-bce0532dd6d4",
   "metadata": {},
   "outputs": [],
   "source": [
    "np.ones(5)"
   ]
  },
  {
   "cell_type": "code",
   "execution_count": null,
   "id": "16ae3e51-d34d-4335-8efc-a65c6e6455a0",
   "metadata": {},
   "outputs": [],
   "source": [
    "np.zeros(5)"
   ]
  },
  {
   "cell_type": "markdown",
   "id": "35732b65-d2cc-4249-ab7d-092c83c91492",
   "metadata": {},
   "source": [
    "__np.random.rand__ creates an array of random numbers from an interval [0, 1]:"
   ]
  },
  {
   "cell_type": "code",
   "execution_count": null,
   "id": "4704f6ea-f39f-4a8c-bd0a-07ff932e05d3",
   "metadata": {},
   "outputs": [],
   "source": [
    "np.random.rand(5)"
   ]
  },
  {
   "cell_type": "markdown",
   "id": "bc6adb0f-e830-40c4-bbc1-44875e39528c",
   "metadata": {},
   "source": [
    "We can also construct a two- or more dimensional arrays:"
   ]
  },
  {
   "cell_type": "code",
   "execution_count": null,
   "id": "7a439fe9-5cfc-4c2a-bf61-ff5e384683c4",
   "metadata": {},
   "outputs": [],
   "source": [
    "np.array([[1, 2], [5, 6]])"
   ]
  },
  {
   "cell_type": "code",
   "execution_count": null,
   "id": "a8e29db8-bcd1-4272-a524-c26fab097c65",
   "metadata": {},
   "outputs": [],
   "source": [
    "np.ones((2, 2))"
   ]
  },
  {
   "cell_type": "markdown",
   "id": "3b0ddecf-ae9e-42f6-af63-37b604f6e840",
   "metadata": {},
   "source": [
    "Alternatively, a n-dimensional array can be obtained by reshaping a 1-D array:"
   ]
  },
  {
   "cell_type": "code",
   "execution_count": null,
   "id": "36b7416a-36c3-4589-99bb-c345089bc645",
   "metadata": {},
   "outputs": [],
   "source": [
    "a = np.arange(12)\n",
    "a.reshape(4,3)"
   ]
  },
  {
   "cell_type": "markdown",
   "id": "c52520ff-74a6-45fe-ad1a-583ff42fb114",
   "metadata": {
    "tags": []
   },
   "source": [
    "## 2. Working with a dataset"
   ]
  },
  {
   "cell_type": "markdown",
   "id": "e43d5d95-bb2f-4238-a897-94030c688d2a",
   "metadata": {},
   "source": [
    "We will use first dataset called `inflammation-01.csv` from the data provided by Software Carpentry: [Analyzing Patient Data](https://swcarpentry.github.io/python-novice-inflammation-2.7/). <br>\n",
    "You should be able to find it in your `data/` directory. "
   ]
  },
  {
   "cell_type": "markdown",
   "id": "c00e7c27-f4a0-4617-82fa-2e0d73a8e8ed",
   "metadata": {},
   "source": [
    "`numpy.loadtxt` has two parameters: the name of the file we want to read and the delimiter that separates values on a line. These both need to be character strings."
   ]
  },
  {
   "cell_type": "code",
   "execution_count": null,
   "id": "0eb27825-e05e-47ef-9497-1c8eccf08c42",
   "metadata": {
    "collapsed": false,
    "jupyter": {
     "outputs_hidden": false
    }
   },
   "outputs": [],
   "source": [
    "data = np.loadtxt(fname='../data/inflammation-01.csv', delimiter=',')"
   ]
  },
  {
   "cell_type": "markdown",
   "id": "01c39a29-807f-480b-985d-f0b4839356ff",
   "metadata": {},
   "source": [
    "We are studying inflammation in patients who have been given a new treatment for arthritis, and need to analyze the first dozen data sets of their daily inflammation. The data sets are stored in comma-separated values (CSV) format: each row holds information for a single patient, and the columns represent successive days:"
   ]
  },
  {
   "cell_type": "markdown",
   "id": "a6ab6052-0052-40c4-b524-d89d232bc585",
   "metadata": {
    "tags": []
   },
   "source": [
    "### Explore array"
   ]
  },
  {
   "cell_type": "code",
   "execution_count": null,
   "id": "e6066a74-c1a7-48f5-9ae7-6358150884a2",
   "metadata": {
    "collapsed": false,
    "jupyter": {
     "outputs_hidden": false
    }
   },
   "outputs": [],
   "source": [
    "print(data)"
   ]
  },
  {
   "cell_type": "markdown",
   "id": "e3d4675f-7305-432e-9eac-081a0554a5c1",
   "metadata": {},
   "source": [
    "In contrast to lists NumPy arrays can store elements of pre-determined type only.\n",
    "The type function will only tell you that a variable is a NumPy array but won’t tell you the type of thing inside the array. We can find out the type of the data contained in the NumPy array."
   ]
  },
  {
   "cell_type": "code",
   "execution_count": null,
   "id": "5e05ed00-bd4c-4c4f-9078-db84a9a9d20e",
   "metadata": {
    "collapsed": false,
    "jupyter": {
     "outputs_hidden": false
    }
   },
   "outputs": [],
   "source": [
    "print(data.dtype)"
   ]
  },
  {
   "cell_type": "markdown",
   "id": "f52f9c51-2b51-452d-bab4-3f4a59ae48e6",
   "metadata": {},
   "source": [
    "and the shape of the array"
   ]
  },
  {
   "cell_type": "code",
   "execution_count": null,
   "id": "c83a82aa-8c31-4032-a74f-6cc53497f1b9",
   "metadata": {
    "collapsed": false,
    "jupyter": {
     "outputs_hidden": false
    }
   },
   "outputs": [],
   "source": [
    "print(data.shape)"
   ]
  },
  {
   "cell_type": "markdown",
   "id": "74d7b0c4-f1cd-4376-b46f-e2b1b3f7d57d",
   "metadata": {},
   "source": [
    "meaning that data array variable contains 60 rows and 40 columns"
   ]
  },
  {
   "cell_type": "markdown",
   "id": "adf6e6d0-dbd5-455a-a91f-515e9b52b18f",
   "metadata": {},
   "source": [
    "## Plotting the data"
   ]
  },
  {
   "cell_type": "code",
   "execution_count": null,
   "id": "89f3cdaa-d019-4bc6-9210-a121868bc9ce",
   "metadata": {
    "collapsed": false,
    "jupyter": {
     "outputs_hidden": false
    }
   },
   "outputs": [],
   "source": [
    "import matplotlib.pyplot as plt\n",
    "plt.imshow(data)\n",
    "plt.show()"
   ]
  },
  {
   "cell_type": "code",
   "execution_count": null,
   "id": "4b9cfa70-9a19-4c1b-aec9-35a2d45d3af7",
   "metadata": {
    "tags": []
   },
   "outputs": [],
   "source": [
    "%matplotlib inline  "
   ]
  },
  {
   "cell_type": "code",
   "execution_count": null,
   "id": "1b08d426-9945-45e1-ab48-4d9105bfd6c8",
   "metadata": {
    "collapsed": false,
    "jupyter": {
     "outputs_hidden": false
    }
   },
   "outputs": [],
   "source": [
    "plt.imshow(data)"
   ]
  },
  {
   "cell_type": "markdown",
   "id": "9f2078d4-cc5f-4d9e-a728-15788fde11b7",
   "metadata": {},
   "source": [
    "## Indexing"
   ]
  },
  {
   "cell_type": "markdown",
   "id": "f6a818b8-cfcd-4939-b40c-876eb8dcd139",
   "metadata": {},
   "source": [
    "If we want to get a single number from the array, we must provide an index in square brackets after the variable name. <br>\n",
    "Note that the NumPy arrays are zero-indexed:"
   ]
  },
  {
   "cell_type": "code",
   "execution_count": null,
   "id": "3ea545ad-0f69-4585-a9b9-490963004405",
   "metadata": {
    "collapsed": false,
    "jupyter": {
     "outputs_hidden": false
    }
   },
   "outputs": [],
   "source": [
    "data[0, 0]"
   ]
  },
  {
   "cell_type": "markdown",
   "id": "8544edac-2034-45ef-be7c-13bbcd3e1f46",
   "metadata": {},
   "source": [
    "It means that that the third element in the first row has an index of [0, 2]:"
   ]
  },
  {
   "cell_type": "code",
   "execution_count": null,
   "id": "3583d947-24fc-460d-af78-f9868d982a1e",
   "metadata": {
    "collapsed": false,
    "jupyter": {
     "outputs_hidden": false
    }
   },
   "outputs": [],
   "source": [
    "data[0, 2]"
   ]
  },
  {
   "cell_type": "markdown",
   "id": "34ee4aa4-da18-404c-85d4-7d2f62d1d79f",
   "metadata": {},
   "source": [
    "We can also assign the element with a new value:"
   ]
  },
  {
   "cell_type": "code",
   "execution_count": null,
   "id": "d7ea6932-c3c2-40cb-a4a0-8f2e1a767861",
   "metadata": {
    "collapsed": false,
    "jupyter": {
     "outputs_hidden": false
    }
   },
   "outputs": [],
   "source": [
    "data[0, 2] = 100.\n",
    "print(data[0, 2])"
   ]
  },
  {
   "cell_type": "markdown",
   "id": "23b6fa32-5bdc-4754-9f31-241770fcd318",
   "metadata": {},
   "source": [
    "NumPy (and Python in general) checks the bounds of the array:"
   ]
  },
  {
   "cell_type": "code",
   "execution_count": null,
   "id": "9a12c7c2-0e2b-4b19-9f02-109230860291",
   "metadata": {
    "collapsed": false,
    "jupyter": {
     "outputs_hidden": false
    }
   },
   "outputs": [],
   "source": [
    "print(data.shape)"
   ]
  },
  {
   "cell_type": "markdown",
   "id": "94136415-34af-4553-9e6e-7d1a66c93c01",
   "metadata": {},
   "source": [
    "Finally, we can ask for several elements at once:"
   ]
  },
  {
   "cell_type": "code",
   "execution_count": null,
   "id": "21a03ba3-20f0-45e0-b3b9-d02741ffd0d7",
   "metadata": {
    "collapsed": false,
    "jupyter": {
     "outputs_hidden": false
    }
   },
   "outputs": [],
   "source": [
    "data[0, [0, 10]]"
   ]
  },
  {
   "cell_type": "markdown",
   "id": "80179a91-eca3-47e0-8c83-2e8f90dc3378",
   "metadata": {},
   "source": [
    "## $\\color{green}{\\text{Excercise 1}}$\n",
    "\n",
    "Generate a 10 x 3 array of random numbers (using np.random.rand). From each row, find the column index of the element closest to 0.75. Make use of np.abs and np.argmin. The result should be a one-dimensional array of integers from 0 to 2."
   ]
  },
  {
   "cell_type": "markdown",
   "id": "e5836bd3-6716-48aa-9469-b2645b41cf90",
   "metadata": {},
   "source": [
    "## $\\color{blue}{\\text{Answer}}$"
   ]
  },
  {
   "cell_type": "code",
   "execution_count": null,
   "id": "b7d20755-681e-40c6-9d71-8d86f0c7e0de",
   "metadata": {
    "collapsed": false,
    "jupyter": {
     "outputs_hidden": false
    }
   },
   "outputs": [],
   "source": [
    "rand_array = np.random.rand(10,3)\n",
    "rand_array2 = rand_array - 0.75\n",
    "closest = np.argmin(np.abs(rand_array2),1)\n",
    "print(rand_array)\n",
    "print(closest)"
   ]
  },
  {
   "cell_type": "markdown",
   "id": "bf37898a-348e-48b5-911b-81d00e277f1c",
   "metadata": {
    "tags": []
   },
   "source": [
    "## 3. Filtering data\n",
    "It's also possible to select elements (filter) based on a condition. "
   ]
  },
  {
   "cell_type": "markdown",
   "id": "a1aa8429-81c8-4f77-a6e8-aca6cab06942",
   "metadata": {},
   "source": [
    "Sometimes we may want to select array elements based on their values. For this case boolean mask is very useful. The mask is an array of the same length as the indexed array containg only False or True values:"
   ]
  },
  {
   "cell_type": "code",
   "execution_count": null,
   "id": "975a6b4e-df78-4d40-b12e-0431ca9cc2a6",
   "metadata": {
    "collapsed": false,
    "jupyter": {
     "outputs_hidden": false
    }
   },
   "outputs": [],
   "source": [
    "a = np.arange(4)\n",
    "print(a)"
   ]
  },
  {
   "cell_type": "code",
   "execution_count": null,
   "id": "45fd1c91-cee1-4004-b7b6-d867250aaa91",
   "metadata": {
    "tags": []
   },
   "outputs": [],
   "source": [
    "mask = np.array([False, True, True, False])"
   ]
  },
  {
   "cell_type": "code",
   "execution_count": null,
   "id": "551f3e2f-922e-49a5-93e7-209bdfd42190",
   "metadata": {
    "collapsed": false,
    "jupyter": {
     "outputs_hidden": false
    }
   },
   "outputs": [],
   "source": [
    "a[mask]"
   ]
  },
  {
   "cell_type": "markdown",
   "id": "ccffb8d7-ff4a-4ca0-af81-c0e5dadb153f",
   "metadata": {},
   "source": [
    "In most cases the mask is constructed from the values of the array itself. For example, to select only odd numbers we could use the following mask:"
   ]
  },
  {
   "cell_type": "code",
   "execution_count": null,
   "id": "fd30f856-8185-49c9-9a16-884ec06f982d",
   "metadata": {
    "collapsed": false,
    "jupyter": {
     "outputs_hidden": false
    }
   },
   "outputs": [],
   "source": [
    "odd = (a % 2) == 1\n",
    "odd"
   ]
  },
  {
   "cell_type": "code",
   "execution_count": null,
   "id": "52e295ba-395d-4923-a646-d701b27e3a1c",
   "metadata": {
    "collapsed": false,
    "jupyter": {
     "outputs_hidden": false
    }
   },
   "outputs": [],
   "source": [
    "np.array([False,  True, False,  True], dtype=bool)\n",
    "a[odd]"
   ]
  },
  {
   "cell_type": "markdown",
   "id": "d7a0db84-6a43-4e05-81a2-abcbbfa19f3f",
   "metadata": {},
   "source": [
    "This could be also done in a single step:"
   ]
  },
  {
   "cell_type": "code",
   "execution_count": null,
   "id": "9a2059f3-3f5b-49a0-aa66-0f5e807b8953",
   "metadata": {
    "collapsed": false,
    "jupyter": {
     "outputs_hidden": false
    }
   },
   "outputs": [],
   "source": [
    "a[(a % 2) == 1]"
   ]
  },
  {
   "cell_type": "markdown",
   "id": "14f1d886-8a60-43e9-af47-fb564766ae51",
   "metadata": {},
   "source": [
    "## $\\color{green}{\\text{Excercise 2}}$ Filtering data\n",
    "In the `data` what do you have to do to select all measurements above 10 in the first patient (index 0)?"
   ]
  },
  {
   "cell_type": "markdown",
   "id": "5bc62d3f-0ab1-4c13-9b47-e81aaad65bc7",
   "metadata": {},
   "source": [
    "## $\\color{blue}{\\text{Answer}}$"
   ]
  },
  {
   "cell_type": "code",
   "execution_count": null,
   "id": "de67fc70-b0c8-41d4-a3d4-b42a4df520d5",
   "metadata": {
    "collapsed": false,
    "jupyter": {
     "outputs_hidden": false
    }
   },
   "outputs": [],
   "source": [
    "patient0_data = data[0, :]\n",
    "patient0_data[patient0_data>10]"
   ]
  },
  {
   "cell_type": "markdown",
   "id": "4129e865-7330-4d59-ad0b-f675fac62439",
   "metadata": {},
   "source": [
    "We can also substitute the measurement with a new value:"
   ]
  },
  {
   "cell_type": "code",
   "execution_count": null,
   "id": "c27ee238-0b6a-4530-abcd-dcc628450501",
   "metadata": {
    "collapsed": false,
    "jupyter": {
     "outputs_hidden": false
    }
   },
   "outputs": [],
   "source": [
    "patient1_data = data[1, :]\n",
    "patient1_data[patient1_data>10] = 10\n",
    "print(patient1_data)"
   ]
  },
  {
   "cell_type": "markdown",
   "id": "a5b99f23-acbd-478f-822c-28a078f18511",
   "metadata": {},
   "source": [
    "## Copy and view"
   ]
  },
  {
   "cell_type": "markdown",
   "id": "fa390745-3690-4177-a173-8d2a4f216ba8",
   "metadata": {},
   "source": [
    "When the contents are physically stored in another location, it is called __Copy__. If on the other hand, a different view of the same memory content is provided, we call it as __View__.\n",
    "\n",
    "__view__ : it is another way of viewing the data of the array\n",
    " \n",
    "__copy__ : it does not share allocated memory with the original array"
   ]
  },
  {
   "cell_type": "markdown",
   "id": "057955be-1087-4153-95da-c080605c41f7",
   "metadata": {},
   "source": [
    "## $\\color{green}{\\text{Excercise 3}}$ view or a copy\n",
    "Is `patient_data` view or a copy of `data`?"
   ]
  },
  {
   "cell_type": "markdown",
   "id": "a22cb553-82d7-4309-84b5-bc152c4c9120",
   "metadata": {},
   "source": [
    "## $\\color{blue}{\\text{Answer}}$\n",
    "\n",
    "To check that let's make a little test:"
   ]
  },
  {
   "cell_type": "code",
   "execution_count": null,
   "id": "4241a353-5ef3-4bfe-9233-769eae70190a",
   "metadata": {
    "collapsed": false,
    "jupyter": {
     "outputs_hidden": false
    }
   },
   "outputs": [],
   "source": [
    "# take the third patient and print it\n",
    "print(data[2, :])\n",
    "# assign a variable from data to patient2_data\n",
    "patient2_data = data[2, :]\n",
    "# we will now update the new variable\n",
    "patient2_data[patient2_data>10] = 10\n",
    "print(patient2_data)\n",
    "# was original data also update?\n",
    "print(data[2,:])\n",
    "# yes. That means that patient2_data is a view of the data. They point to the same memory"
   ]
  },
  {
   "cell_type": "markdown",
   "id": "3b730c30-06cf-41e7-82b2-bccec8a38cd2",
   "metadata": {},
   "source": [
    "## $\\color{green}{\\text{Quiz}}$  view or copy\n",
    "What are the final values of a and b at the end of the following program? Explain why.\n",
    "\n",
    "`a = np.arange(5)\n",
    "b = a[a < 3]\n",
    "b[::2] = 0`\n",
    "\n",
    "\n",
    "a)  a = [0, 1, 2, 3, 4], b = [0, 1, 2] <br>\n",
    "b)  a = [0, 1, 0, 3, 4], b = [0, 1, 0] <br>\n",
    "c)  a = [0, 0, 2, 3, 4], b = [0, 0, 2] <br>\n",
    "d)  a = [0, 1, 2, 3, 4], b = [0, 1, 0] <br>\n",
    "e)  a = [0, 1, 2, 3, 4], b = [0, 1, 0, 3, 0] <br>"
   ]
  },
  {
   "cell_type": "markdown",
   "id": "fbfe1141-7b14-4662-a5ad-97f38dc3482e",
   "metadata": {},
   "source": [
    "## $\\color{blue}{\\text{Answer}}$"
   ]
  },
  {
   "cell_type": "code",
   "execution_count": null,
   "id": "834e7887-4187-4450-8b51-ecd96df92d9b",
   "metadata": {},
   "outputs": [],
   "source": [
    "# b is a copy of a\n",
    "a = np.arange(5)\n",
    "b = a[a < 3]\n",
    "b[::2] = 0\n",
    "print(a)\n",
    "print(b)"
   ]
  },
  {
   "cell_type": "markdown",
   "id": "72aff013-c404-4228-9424-ff9fe34c8912",
   "metadata": {},
   "source": [
    "## 4. Slices"
   ]
  },
  {
   "cell_type": "markdown",
   "id": "fd72b79f-3bc3-4ea9-914f-54ece089fec8",
   "metadata": {},
   "source": [
    "You can select ranges of elements using slices. "
   ]
  },
  {
   "cell_type": "markdown",
   "id": "c0a54573-73f2-4c27-b41d-3d37612e1016",
   "metadata": {},
   "source": [
    "To select first two columns from the first row, you can use:"
   ]
  },
  {
   "cell_type": "code",
   "execution_count": null,
   "id": "396809ca-1c4d-4a07-a7c1-e2d658dd69f7",
   "metadata": {
    "collapsed": false,
    "jupyter": {
     "outputs_hidden": false
    }
   },
   "outputs": [],
   "source": [
    "data[0, 0:2]"
   ]
  },
  {
   "cell_type": "code",
   "execution_count": null,
   "id": "e82edf13-60aa-42fe-ae62-7785bd4cc93e",
   "metadata": {
    "collapsed": false,
    "jupyter": {
     "outputs_hidden": false
    }
   },
   "outputs": [],
   "source": [
    "data[0, :2]"
   ]
  },
  {
   "cell_type": "markdown",
   "id": "a64b1e4c-5065-42ee-ad88-eaabfcbc649c",
   "metadata": {},
   "source": [
    "If you omit both indices in the slice leaving out only the colon (:), you will get all columns of this row:"
   ]
  },
  {
   "cell_type": "code",
   "execution_count": null,
   "id": "0430cc30-3797-413a-90b6-c4e85f5d341b",
   "metadata": {
    "collapsed": false,
    "jupyter": {
     "outputs_hidden": false
    }
   },
   "outputs": [],
   "source": [
    "data[0, :]"
   ]
  },
  {
   "cell_type": "markdown",
   "id": "6c2dfd22-d9c1-4a36-b336-e1ee85d5ac35",
   "metadata": {},
   "source": [
    "Note that the returned array does not include third column (with index 2). The slice 0:2 means, “Start at index 0 and go up to, but not including, index 2.”"
   ]
  },
  {
   "cell_type": "markdown",
   "id": "4d884d2d-af93-406f-97c4-35310340a14c",
   "metadata": {},
   "source": [
    "You can skip the first or last index (which means, take the values from the beginning or to the end):"
   ]
  },
  {
   "cell_type": "markdown",
   "id": "5829ed52-a017-4575-8018-fee142219160",
   "metadata": {},
   "source": [
    "You can also slice at both dimensions"
   ]
  },
  {
   "cell_type": "code",
   "execution_count": null,
   "id": "971f3f0c-74eb-4161-9bc4-63c5fb9cd13f",
   "metadata": {
    "collapsed": false,
    "jupyter": {
     "outputs_hidden": false
    }
   },
   "outputs": [],
   "source": [
    "print(data[5:10, 0:10])"
   ]
  },
  {
   "cell_type": "markdown",
   "id": "eb949cb9-ffa4-4a79-9619-258756554fa1",
   "metadata": {},
   "source": [
    "## $\\color{green}{\\text{Excercise 4}}$\n",
    "\n",
    "Select rows 0 through 2 and columns 36 through to the end of the array."
   ]
  },
  {
   "cell_type": "markdown",
   "id": "4b689889-ecc8-4b88-8302-1acdf595b424",
   "metadata": {},
   "source": [
    "## $\\color{blue}{\\text{Answer}}$"
   ]
  },
  {
   "cell_type": "code",
   "execution_count": null,
   "id": "e8928e90-b69f-4216-bfd5-fe68356b666e",
   "metadata": {
    "collapsed": false,
    "jupyter": {
     "outputs_hidden": false
    }
   },
   "outputs": [],
   "source": [
    "data[:3, 36:]"
   ]
  },
  {
   "cell_type": "markdown",
   "id": "fa5b7678-ecd1-4fe5-b8b6-573d04a1aa52",
   "metadata": {},
   "source": [
    "## $\\color{green}{\\text{Quiz 2}}$ \n",
    "\n",
    "Imagine the following array a:\n",
    "\n",
    "`>> print(a)` <br>\n",
    "[0, 5, 8, 10]\n",
    "\n",
    "Which of the following commands will give this output:\n",
    "\n",
    "[5, 8]\n",
    "\n",
    "a) print(a[1, 2])\n",
    "\n",
    "b) print(a[2:3])\n",
    "\n",
    "c) print(a[1:2])\n",
    "\n",
    "d) print(a[[1, 2]])\n",
    "\n",
    "e) print(a[a<10])\n",
    "\n",
    "You can test your guess by creating the a array:\n",
    "\n",
    "a = np.array([0, 5, 8, 10])"
   ]
  },
  {
   "cell_type": "markdown",
   "id": "9a57f3dc-c27b-4d4b-b97a-be7332b79838",
   "metadata": {},
   "source": [
    "You can assign elements with slices and indexes:"
   ]
  },
  {
   "cell_type": "code",
   "execution_count": null,
   "id": "9f29d276-d95d-42e7-ac4d-1101cf8526a3",
   "metadata": {
    "collapsed": false,
    "jupyter": {
     "outputs_hidden": false
    }
   },
   "outputs": [],
   "source": [
    "a = np.arange(9)\n",
    "print(a)"
   ]
  },
  {
   "cell_type": "code",
   "execution_count": null,
   "id": "007ee5a0-299b-4d7d-9f03-140a0907c56b",
   "metadata": {
    "collapsed": false,
    "jupyter": {
     "outputs_hidden": false
    }
   },
   "outputs": [],
   "source": [
    "a[1:8:2]=1000\n",
    "print(a)"
   ]
  },
  {
   "cell_type": "markdown",
   "id": "84042b05-7d1b-4900-aa3e-52faee520355",
   "metadata": {},
   "source": [
    "## $\\color{green}{\\text{Excercise 5}}$ view or copy\n",
    "\n",
    "Create a 3x4 array of values from 0 to 11. Create another array as follows: y = x[2]. What happens when you modify y — does x also change?<br>\n",
    "Now try y = x[:2] and modify it’s first element. What happens now?"
   ]
  },
  {
   "cell_type": "markdown",
   "id": "f75d28d4-192e-43c0-a925-e5b675295e1c",
   "metadata": {},
   "source": [
    "## $\\color{blue}{\\text{Answer}}$"
   ]
  },
  {
   "cell_type": "code",
   "execution_count": null,
   "id": "1309894f-3b59-457c-b9ea-86eaf3906d1b",
   "metadata": {
    "collapsed": false,
    "jupyter": {
     "outputs_hidden": false
    }
   },
   "outputs": [],
   "source": [
    "x = np.arange(0,12)\n",
    "y = x[2]\n",
    "print(x)\n",
    "y = 10\n",
    "print(x)"
   ]
  },
  {
   "cell_type": "code",
   "execution_count": null,
   "id": "9b77bad5-42c0-45cb-84dc-c7eb05dfadcc",
   "metadata": {
    "collapsed": false,
    "jupyter": {
     "outputs_hidden": false
    }
   },
   "outputs": [],
   "source": [
    "y = x[:2]\n",
    "y[0] = 10\n",
    "print(x)"
   ]
  },
  {
   "cell_type": "markdown",
   "id": "18ecd596-9d39-40a5-ace8-925f4f3332d2",
   "metadata": {},
   "source": [
    "## $\\color{green}{\\text{Excercise 6}}$ checkerboard\n",
    "    \n",
    "Create 8x8 array of zeros and fill it with a checkerboard pattern . \n",
    "You can use plt.imshow() to visualize your array\n",
    "\n",
    "\n",
    "<img src=\"../images/checkerboard.svg\"  width=400 height=400>"
   ]
  },
  {
   "cell_type": "markdown",
   "id": "434e1e6b-af76-4085-8d3e-708bdc8dc394",
   "metadata": {},
   "source": [
    "## $\\color{blue}{\\text{Answer}}$"
   ]
  },
  {
   "cell_type": "code",
   "execution_count": null,
   "id": "796b8c09-9881-4ab8-9f6e-4186b4a5c2e2",
   "metadata": {
    "collapsed": false,
    "jupyter": {
     "outputs_hidden": false
    }
   },
   "outputs": [],
   "source": [
    "import matplotlib.pylab as plt\n",
    "%matplotlib inline\n",
    "\n",
    "checkerboard = np.zeros((8,8))\n",
    "checkerboard[1::2,::2] = 1\n",
    "checkerboard[::2,1::2] = 1\n",
    "plt.imshow(checkerboard)"
   ]
  },
  {
   "cell_type": "markdown",
   "id": "7e3aed9f-184a-4ecd-8604-5e1581d37926",
   "metadata": {},
   "source": [
    "## 5. Operations\n",
    "\n",
    "Arrays also know how to perform common mathematical operations on their values. The simplest operations with data are arithmetic: addition, subtraction, multiplication, and division. When you do such operations on arrays, the operation is done element-by-element. <br>"
   ]
  },
  {
   "cell_type": "code",
   "execution_count": null,
   "id": "743150e0-c439-4c1f-a58f-a0b3e1fb298f",
   "metadata": {
    "collapsed": false,
    "jupyter": {
     "outputs_hidden": false
    }
   },
   "outputs": [],
   "source": [
    "doubledata = data + data\n",
    "print(doubledata)"
   ]
  },
  {
   "cell_type": "markdown",
   "id": "23dae384-645d-44db-9889-759c1ae8049d",
   "metadata": {},
   "source": [
    "Operations by scalar:"
   ]
  },
  {
   "cell_type": "code",
   "execution_count": null,
   "id": "e402d914-ce07-4a05-9b24-219038e176e3",
   "metadata": {
    "collapsed": false,
    "jupyter": {
     "outputs_hidden": false
    }
   },
   "outputs": [],
   "source": [
    "tripledata = data * 3\n",
    "print(tripledata)"
   ]
  },
  {
   "cell_type": "markdown",
   "id": "7622b877-5b7c-499f-a04a-6a7819863552",
   "metadata": {},
   "source": [
    "One of the advantages of NumPy is that it allows to apply functions (called ufuncs) to all elements of an array without the need of `for` loops:"
   ]
  },
  {
   "cell_type": "code",
   "execution_count": null,
   "id": "63a98f69-91c0-47dd-a343-b499b5cc5dab",
   "metadata": {
    "collapsed": false,
    "jupyter": {
     "outputs_hidden": false
    }
   },
   "outputs": [],
   "source": [
    "np.sin(data[0,:])"
   ]
  },
  {
   "cell_type": "markdown",
   "id": "888ac87b-ffdf-4379-80cf-6478fd281499",
   "metadata": {},
   "source": [
    "This is not only convenient but also more efficient than iterating through the elements using for loops."
   ]
  },
  {
   "cell_type": "code",
   "execution_count": null,
   "id": "88e4a3e4-d511-46be-a122-47110b282cfb",
   "metadata": {
    "collapsed": false,
    "jupyter": {
     "outputs_hidden": false
    }
   },
   "outputs": [],
   "source": [
    "expdata = np.exp(data)\n",
    "print(expdata)"
   ]
  },
  {
   "cell_type": "markdown",
   "id": "ef6843cd-e47b-4438-a33a-dbf4b54f6daf",
   "metadata": {},
   "source": [
    "**Warning** Standard Python installation also includes the `math` library, but it does not play nicely with NumPy array and it may give different results than numpy function, so avoid using it with NumPy arrays.\n",
    "\n",
    "Some functions (such as mean, max, etc.) aggregate the data return arrays of less dimensions or scalars:"
   ]
  },
  {
   "cell_type": "code",
   "execution_count": null,
   "id": "e405ca76-57e1-4886-afbd-45816b7e6d3d",
   "metadata": {
    "collapsed": false,
    "jupyter": {
     "outputs_hidden": false
    }
   },
   "outputs": [],
   "source": [
    "sumdata = np.sum(data)\n",
    "print('sum data: {}'.format(sumdata))"
   ]
  },
  {
   "cell_type": "code",
   "execution_count": null,
   "id": "ca953012-b13f-4247-812a-8d6ba93bd935",
   "metadata": {
    "collapsed": false,
    "jupyter": {
     "outputs_hidden": false
    }
   },
   "outputs": [],
   "source": [
    "meandata = np.mean(data)\n",
    "print(meandata)"
   ]
  },
  {
   "cell_type": "markdown",
   "id": "b302613b-8121-4dae-9aa2-bf8272bfe1ab",
   "metadata": {},
   "source": [
    "It's also possbile to average over a single axis:"
   ]
  },
  {
   "cell_type": "code",
   "execution_count": null,
   "id": "91d1ee46-9d9c-49aa-a64a-8598bfa94d0a",
   "metadata": {
    "collapsed": false,
    "jupyter": {
     "outputs_hidden": false
    }
   },
   "outputs": [],
   "source": [
    "np.mean(data, 0)"
   ]
  },
  {
   "cell_type": "markdown",
   "id": "37d604a7-dd7c-4992-80a7-cd477878d2cb",
   "metadata": {},
   "source": [
    "## $\\color{green}{\\text{Excercise 7}}$ operations\n",
    "\n",
    "Average the inflammation data over the first ten patients (rows) and plot them across time (columns). Then repeat it for the next ten patients and so on. Try putting all averages on a single plot"
   ]
  },
  {
   "cell_type": "markdown",
   "id": "8868ab2c-3c8c-42bf-8751-5e1422060772",
   "metadata": {},
   "source": [
    "## $\\color{blue}{\\text{Answer}}$"
   ]
  },
  {
   "cell_type": "code",
   "execution_count": null,
   "id": "c08ee517-de1a-47e5-81ed-073eab4befcb",
   "metadata": {
    "collapsed": false,
    "jupyter": {
     "outputs_hidden": false
    }
   },
   "outputs": [],
   "source": [
    "import matplotlib.pylab as plt\n",
    "%matplotlib inline\n",
    "\n",
    "pat_0 = 0\n",
    "pat_last = 10\n",
    "while pat_last <= len(data):\n",
    "    ave_inflammation = np.mean(data[pat_0:pat_last], axis=0)\n",
    "    plt.plot(ave_inflammation)\n",
    "    pat_0 = pat_last\n",
    "    pat_last += 10\n",
    "    "
   ]
  },
  {
   "cell_type": "markdown",
   "id": "8a0563fb-72c1-4b53-b46b-ab1ca152de91",
   "metadata": {
    "tags": []
   },
   "source": [
    "## Additional operations which you might find helpful"
   ]
  },
  {
   "cell_type": "code",
   "execution_count": null,
   "id": "55b0ac14-c9fe-4a99-9919-d5e7eed80c8a",
   "metadata": {},
   "outputs": [],
   "source": [
    "# let's create a two-dimensional array\n",
    "arr1 = np.ones([4,4])\n",
    "arr2 = np.ones([4,4]) * 5\n",
    "print(arr1)\n",
    "print(arr2)"
   ]
  },
  {
   "cell_type": "code",
   "execution_count": null,
   "id": "6b2873d4-f7ea-4899-bd5b-1b61e232c5b2",
   "metadata": {},
   "outputs": [],
   "source": [
    "# now, if you want to generate the product of the two matrices\n",
    "# multiplying them won't give you the result you search for\n",
    "print(arr1 * arr2)"
   ]
  },
  {
   "cell_type": "code",
   "execution_count": null,
   "id": "2ccba5cd-756d-4c97-badc-1a2c8cd51199",
   "metadata": {},
   "outputs": [],
   "source": [
    "# If you want to have a product of the two matrices you need to use np.dot() function\n",
    "print(np.dot(arr1, arr2))\n",
    "# or @ operator\n",
    "print(arr1@arr2)"
   ]
  },
  {
   "cell_type": "code",
   "execution_count": null,
   "id": "4323358b-baf1-4c81-9707-4f6a5faaca29",
   "metadata": {},
   "outputs": [],
   "source": [
    "# there are other useful operations such as transpose:\n",
    "arr1[:,2] = 7\n",
    "print(arr1)\n",
    "print(arr1.T)"
   ]
  },
  {
   "cell_type": "markdown",
   "id": "f15e6a33-0a4b-4005-8839-bfc6d8d03945",
   "metadata": {
    "tags": []
   },
   "source": [
    "# 6. Case study: K-means\n",
    "\n",
    "K-means is a simple algorithm to cluster data – that is to identify groups of similar objects based only on their properties. The algorithm is best-illustrated by the following graph:\n",
    "\n",
    "<img src=\"../images/kmeans_illustration.png\" alt=\"drawing\" width=800 >\n",
    "\n",
    "\n",
    "\n",
    "## Loading data\n",
    "\n",
    "We first need to load sample data"
   ]
  },
  {
   "cell_type": "code",
   "execution_count": null,
   "id": "791b384f-f097-42fc-98ad-bac0a9c41fa0",
   "metadata": {
    "collapsed": false,
    "jupyter": {
     "outputs_hidden": false
    }
   },
   "outputs": [],
   "source": [
    "import numpy as np\n",
    "import matplotlib.pylab as plt\n",
    "\n",
    "data = np.loadtxt('../data/kmeans_data.csv')\n",
    "data.shape"
   ]
  },
  {
   "cell_type": "markdown",
   "id": "8b170136-311e-4264-bb2e-e234ca90d32b",
   "metadata": {},
   "source": [
    "To visualise the data we can use the scatter function from matplotlib package:"
   ]
  },
  {
   "cell_type": "code",
   "execution_count": null,
   "id": "255b5b72-41f0-4ab9-b457-add36dca4fda",
   "metadata": {
    "collapsed": false,
    "jupyter": {
     "outputs_hidden": false
    }
   },
   "outputs": [],
   "source": [
    "plt.scatter(data[:, 0], data[:, 1], s=40)"
   ]
  },
  {
   "cell_type": "markdown",
   "id": "d5902b23-ed5f-492f-aaa7-a1c704f4a8c8",
   "metadata": {},
   "source": [
    "## Initialisation\n",
    "\n",
    "In the first step of the algorithm we need to initialise the centers of the clusters. We will initialise them randomly but consistently with the mean and standard deviation of the data:"
   ]
  },
  {
   "cell_type": "code",
   "execution_count": null,
   "id": "84cbc57a-52cd-42ca-8d68-144a37141429",
   "metadata": {
    "tags": []
   },
   "outputs": [],
   "source": [
    "K = 3\n",
    "centroids = np.random.randn(K, 2)"
   ]
  },
  {
   "cell_type": "markdown",
   "id": "9e1d3edd-0988-4266-bca4-0cb450476ba5",
   "metadata": {},
   "source": [
    "To center the cluster centroids on the data it’s better to normalise to the mean and standard deviation of the data:"
   ]
  },
  {
   "cell_type": "code",
   "execution_count": null,
   "id": "a45d05fe-5c74-4ce2-b555-a4ba9c1c64f7",
   "metadata": {
    "tags": []
   },
   "outputs": [],
   "source": [
    "centroids = centroids * np.std(data, 0)\n",
    "centroids = centroids + np.mean(data, 0)"
   ]
  },
  {
   "cell_type": "markdown",
   "id": "ac37fa5c-9471-435e-8fa9-0a3473243d26",
   "metadata": {},
   "source": [
    "Let’s now plot the data and the random cluster centers on the same figure:"
   ]
  },
  {
   "cell_type": "code",
   "execution_count": null,
   "id": "48ad48d7-62fb-4e67-a8c1-9f15b503836f",
   "metadata": {
    "collapsed": false,
    "jupyter": {
     "outputs_hidden": false
    }
   },
   "outputs": [],
   "source": [
    "plt.scatter(data[:, 0], data[:, 1], s=40)\n",
    "plt.scatter(centroids[:, 0], centroids[:, 1], c=np.arange(3), s=100)"
   ]
  },
  {
   "cell_type": "markdown",
   "id": "5e3ba52b-a7f4-40e6-8a6a-1e13b425e7b0",
   "metadata": {},
   "source": [
    "We now need to assign each point to the closest cluster center. <br> First, we will calculate the Euclidean distance of each point to each of the centers. <br>\n",
    "\n",
    "For this we can use the [broadcasting](broadcasting.ipynb).\n",
    "\n",
    "The term broadcasting describes how numpy treats arrays with different shapes during arithmetic operations.  Subject to certain constraints, the smaller array is “broadcast” across the larger array so that they have compatible shapes."
   ]
  },
  {
   "cell_type": "code",
   "execution_count": null,
   "id": "676f2be7-e692-433e-8d6b-66d1cf3f6eaf",
   "metadata": {
    "collapsed": false,
    "jupyter": {
     "outputs_hidden": false
    }
   },
   "outputs": [],
   "source": [
    "data.shape"
   ]
  },
  {
   "cell_type": "code",
   "execution_count": null,
   "id": "113917e8-1ac2-4ca4-b9c0-77568bd0dc9b",
   "metadata": {
    "collapsed": false,
    "jupyter": {
     "outputs_hidden": false
    }
   },
   "outputs": [],
   "source": [
    "centroids.shape"
   ]
  },
  {
   "cell_type": "code",
   "execution_count": null,
   "id": "3bd12e1e-5c94-4ae8-9b03-850afded0505",
   "metadata": {
    "collapsed": false,
    "jupyter": {
     "outputs_hidden": false
    }
   },
   "outputs": [],
   "source": [
    "data[:, np.newaxis, :].shape"
   ]
  },
  {
   "cell_type": "code",
   "execution_count": null,
   "id": "d7998c19-306c-4529-a9b0-855ae0ca0e0b",
   "metadata": {
    "tags": []
   },
   "outputs": [],
   "source": [
    "deltas = data[:, np.newaxis, :] - centroids"
   ]
  },
  {
   "cell_type": "code",
   "execution_count": null,
   "id": "fac618ca-8d8a-4a89-86f8-965b8e8dfa2f",
   "metadata": {
    "collapsed": false,
    "jupyter": {
     "outputs_hidden": false
    }
   },
   "outputs": [],
   "source": [
    "deltas.shape"
   ]
  },
  {
   "cell_type": "code",
   "execution_count": null,
   "id": "aaa67d38-ed72-455f-8817-311d46084e1c",
   "metadata": {
    "tags": []
   },
   "outputs": [],
   "source": [
    "distances = np.sqrt(np.sum((deltas) ** 2, 2))"
   ]
  },
  {
   "cell_type": "markdown",
   "id": "10738521-96c5-428b-be8e-826b898a1e4e",
   "metadata": {},
   "source": [
    "For each data point we find the center with minimum distance. We can use the argmin method with the axis argument:"
   ]
  },
  {
   "cell_type": "code",
   "execution_count": null,
   "id": "27089d85-8733-4085-9bb2-b6d37a089fd8",
   "metadata": {
    "tags": []
   },
   "outputs": [],
   "source": [
    "closest = distances.argmin(1)"
   ]
  },
  {
   "cell_type": "markdown",
   "id": "896132b7-302a-4f27-bb20-6d14961f01a5",
   "metadata": {},
   "source": [
    "Now we plot the centroids and data points with the color-code reflecting cluster membership:"
   ]
  },
  {
   "cell_type": "code",
   "execution_count": null,
   "id": "cf7bcd8d-9001-4d06-888b-274969fda4d2",
   "metadata": {
    "collapsed": false,
    "jupyter": {
     "outputs_hidden": false
    }
   },
   "outputs": [],
   "source": [
    "plt.scatter(data[:, 0], data[:, 1], s=40, c=closest)\n",
    "plt.scatter(centroids[:, 0], centroids[:, 1], c=np.arange(3), s=100)"
   ]
  },
  {
   "cell_type": "markdown",
   "id": "fb9022f3-bb30-4f81-817a-f19cb5591b62",
   "metadata": {},
   "source": [
    "## $\\color{green}{\\text{Excercise 8}}$  Calculate new cluster centers\n",
    "Given the array of cluster assignments closest calculate the center coordinates of the first cluster (index 0). <br> __Note__: To calculate new centers of the clusters, we average all points belonging to that cluster. We can use a boolean mask"
   ]
  },
  {
   "cell_type": "markdown",
   "id": "ffac96c5-5683-4979-a218-6918f78c19cc",
   "metadata": {},
   "source": [
    "## $\\color{blue}{\\text{Answer}}$"
   ]
  },
  {
   "cell_type": "code",
   "execution_count": null,
   "id": "1ce1ed42-0b15-4827-afc1-65b744e5d6a2",
   "metadata": {
    "collapsed": false,
    "jupyter": {
     "outputs_hidden": false
    }
   },
   "outputs": [],
   "source": [
    "data[closest==0, :].mean(0)"
   ]
  },
  {
   "cell_type": "markdown",
   "id": "86ee639d-c4e1-48d0-ae3d-f2fa46b270d7",
   "metadata": {},
   "source": [
    "To repeat it for all clusters we can use a for loop or list comprehension. Since the number of clusters is usually much smaller than the number of data points, this for loop won’t affect the performance of our algorithm:"
   ]
  },
  {
   "cell_type": "code",
   "execution_count": null,
   "id": "66312bc2-081c-4bdf-859e-21631dc1ae63",
   "metadata": {
    "collapsed": false,
    "jupyter": {
     "outputs_hidden": false
    }
   },
   "outputs": [],
   "source": [
    "centroids = np.array([data[closest == i, :].mean(0) for i in range(3)])"
   ]
  },
  {
   "cell_type": "markdown",
   "id": "15814542-ec3c-4b3f-93e2-35c20cb1ef3b",
   "metadata": {},
   "source": [
    "Lets check the positions of new centers and assignment of points to clusters."
   ]
  },
  {
   "cell_type": "code",
   "execution_count": null,
   "id": "c71d636b-90e2-49ad-a5f3-827a10faae25",
   "metadata": {
    "collapsed": false,
    "jupyter": {
     "outputs_hidden": false
    }
   },
   "outputs": [],
   "source": [
    "plt.scatter(data[:, 0], data[:, 1], s=40, c=closest)\n",
    "plt.scatter(centroids[:, 0], centroids[:, 1], c=np.arange(3), s=100)"
   ]
  },
  {
   "cell_type": "markdown",
   "id": "31ade111-d709-457d-a5c0-94d3d9f22a87",
   "metadata": {},
   "source": [
    "## Iterations"
   ]
  },
  {
   "cell_type": "markdown",
   "id": "2fedd842-eff3-4645-8691-aea5d883ac01",
   "metadata": {},
   "source": [
    "Now we can repeat the steps of assigning point to clusters and updating the cluster centers iteratively and watch the progress of the algorithm:"
   ]
  },
  {
   "cell_type": "code",
   "execution_count": null,
   "id": "c3d45c25-7aeb-47de-ac89-fc5e9adeaf18",
   "metadata": {
    "collapsed": false,
    "jupyter": {
     "outputs_hidden": false
    }
   },
   "outputs": [],
   "source": [
    "for iteration in range(5):\n",
    "   # assign points to clusters\n",
    "   deltas = data[:, np.newaxis, :] - centroids\n",
    "   distances = np.sqrt(np.sum((deltas) ** 2, 2))\n",
    "   closest = distances.argmin(1)\n",
    "\n",
    "   # calculate new centroids\n",
    "   centroids = np.array([data[closest == i, :].mean(0) for i in range(3)])"
   ]
  },
  {
   "cell_type": "markdown",
   "id": "065cc91f-2212-49c0-a7ee-a9393bff0d7f",
   "metadata": {},
   "source": [
    "## Single cluster?\n",
    "Note that sometimes the algorithm can produce degenerate results – all of the points will be assigned to a single cluster (or final number of clusters will be less than K). This is one of drawbacks of K-means with random initialisations. A possible solution is to repeat the algorithm with other initialisations and find the best cluster assignment, but better solutions exist."
   ]
  },
  {
   "cell_type": "markdown",
   "id": "a27f5133-6f63-49c8-a12e-1d9aa571e6e0",
   "metadata": {},
   "source": [
    "## Putting it all together\n",
    "\n",
    "Our final script will look as the following:"
   ]
  },
  {
   "cell_type": "code",
   "execution_count": null,
   "id": "892879aa-4533-4752-af27-becf1c44214c",
   "metadata": {
    "collapsed": false,
    "jupyter": {
     "outputs_hidden": false
    }
   },
   "outputs": [],
   "source": [
    "import numpy as np\n",
    "import matplotlib.pyplot as plt\n",
    "\n",
    "data = np.loadtxt('../data/kmeans_data.csv')\n",
    "\n",
    "# randomly initalize the centroids\n",
    "K = 3\n",
    "centroids = np.random.randn(K, 2)\n",
    "centroids = centroids * np.std(data, 0)\n",
    "centroids = centroids + np.mean(data, 0)\n",
    "\n",
    "for iteration in range(5):\n",
    "   # assign points to clusters\n",
    "   deltas = data[:, np.newaxis, :] - centroids\n",
    "   distances = np.sqrt(np.sum((deltas) ** 2, 2))\n",
    "   closest = distances.argmin(1)\n",
    "\n",
    "   # calculate new centroids\n",
    "   centroids = np.array([data[closest == i, :].mean(0) for i in range(K)])\n",
    "\n",
    "# plot \n",
    "plt.scatter(data[:, 0], data[:, 1], s=40, c=closest)\n",
    "plt.scatter(centroids[:, 0], centroids[:, 1], c=np.arange(K), s=100)"
   ]
  },
  {
   "cell_type": "markdown",
   "id": "ae9bc08d-e3c9-4588-a3ce-c209da086afb",
   "metadata": {},
   "source": [
    "## $\\color{green}{\\text{Excercise 9}}$  Stopping criterion\n",
    "After each iteration test whether any point changes their cluster membership. Stop the algorithm if convergence was reached i.e. clusters do not change after the re-assignment step."
   ]
  },
  {
   "cell_type": "markdown",
   "id": "f725a8f3-35ea-43fc-a8c1-9fb5c16a1f1e",
   "metadata": {},
   "source": [
    "## $\\color{green}{\\text{Excercise 10}}$ Choice of K\n",
    "\n",
    "Check whether the algorithm works for any K. Try using K > 3. What happens then?"
   ]
  },
  {
   "cell_type": "code",
   "execution_count": null,
   "id": "7d6d5b5b-24d6-4d46-bcfb-4772310d8b6f",
   "metadata": {
    "collapsed": false,
    "jupyter": {
     "outputs_hidden": false
    }
   },
   "outputs": [],
   "source": [
    "import numpy as np\n",
    "import matplotlib.pyplot as plt\n",
    "\n",
    "data = np.loadtxt('../data/kmeans_data.csv')\n",
    "\n",
    "# randomly initalize the centroids\n",
    "K = 4\n",
    "centroids = np.random.randn(K, 2)\n",
    "centroids = centroids * np.std(data, 0)\n",
    "centroids = centroids + np.mean(data, 0)\n",
    "\n",
    "for iteration in range(5):\n",
    "   # assign points to clusters\n",
    "   deltas = data[:, np.newaxis, :] - centroids\n",
    "   distances = np.sqrt(np.sum((deltas) ** 2, 2))\n",
    "   closest = distances.argmin(1)\n",
    "\n",
    "   # calculate new centroids\n",
    "   centroids_new = np.array([data[closest == i, :].mean(0) for i in range(K)])\n",
    "   centroids_new[np.isnan(centroids_new)] = centroids[np.isnan(centroids_new)]\n",
    "   centroids = centroids_new\n",
    "\n",
    "# plot \n",
    "plt.scatter(data[:, 0], data[:, 1], s=40, c=closest)\n",
    "plt.scatter(centroids[:, 0], centroids[:, 1], c=np.arange(K), s=100)"
   ]
  }
 ],
 "metadata": {
  "kernelspec": {
   "display_name": "Python 3 (ipykernel)",
   "language": "python",
   "name": "python3"
  },
  "language_info": {
   "codemirror_mode": {
    "name": "ipython",
    "version": 3
   },
   "file_extension": ".py",
   "mimetype": "text/x-python",
   "name": "python",
   "nbconvert_exporter": "python",
   "pygments_lexer": "ipython3",
   "version": "3.8.12"
  }
 },
 "nbformat": 4,
 "nbformat_minor": 5
}

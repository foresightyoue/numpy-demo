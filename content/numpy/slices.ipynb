{
 "cells": [
  {
   "cell_type": "markdown",
   "metadata": {},
   "source": [
    "## Slices"
   ]
  },
  {
   "cell_type": "markdown",
   "metadata": {},
   "source": [
    "You can select ranges of elements using slices. "
   ]
  },
  {
   "cell_type": "code",
   "execution_count": null,
   "metadata": {
    "tags": []
   },
   "outputs": [],
   "source": [
    "import numpy as np"
   ]
  },
  {
   "cell_type": "code",
   "execution_count": null,
   "metadata": {
    "tags": []
   },
   "outputs": [],
   "source": [
    "data = np.loadtxt(fname='../data/inflammation-01.csv', delimiter=',')"
   ]
  },
  {
   "cell_type": "markdown",
   "metadata": {},
   "source": [
    "To select first two columns from the first row, you can use:"
   ]
  },
  {
   "cell_type": "code",
   "execution_count": null,
   "metadata": {
    "collapsed": false,
    "jupyter": {
     "outputs_hidden": false
    }
   },
   "outputs": [],
   "source": [
    "data[0, 0:2]"
   ]
  },
  {
   "cell_type": "code",
   "execution_count": null,
   "metadata": {
    "collapsed": false,
    "jupyter": {
     "outputs_hidden": false
    }
   },
   "outputs": [],
   "source": [
    "data[0, :2]"
   ]
  },
  {
   "cell_type": "markdown",
   "metadata": {},
   "source": [
    "If you omit both indices in the slice leaving out only the colon (:), you will get all columns of this row:"
   ]
  },
  {
   "cell_type": "code",
   "execution_count": null,
   "metadata": {
    "collapsed": false,
    "jupyter": {
     "outputs_hidden": false
    }
   },
   "outputs": [],
   "source": [
    "data[0, :]"
   ]
  },
  {
   "cell_type": "markdown",
   "metadata": {},
   "source": [
    "Note that the returned array does not include third column (with index 2). The slice 0:2 means, “Start at index 0 and go up to, but not including, index 2.”"
   ]
  },
  {
   "cell_type": "markdown",
   "metadata": {},
   "source": [
    "You can skip the first or last index (which means, take the values from the beginning or to the end):"
   ]
  },
  {
   "cell_type": "markdown",
   "metadata": {},
   "source": [
    "You can also slice at both dimensions"
   ]
  },
  {
   "cell_type": "code",
   "execution_count": null,
   "metadata": {
    "collapsed": false,
    "jupyter": {
     "outputs_hidden": false
    }
   },
   "outputs": [],
   "source": [
    "print(data[5:10, 0:10])"
   ]
  },
  {
   "cell_type": "markdown",
   "metadata": {},
   "source": [
    "## $\\color{green}{\\text{Excercise}}$\n",
    "\n",
    "Select rows 0 through 2 and columns 36 through to the end of the array."
   ]
  },
  {
   "cell_type": "markdown",
   "metadata": {},
   "source": [
    "## $\\color{green}{\\text{Quiz}}$ \n",
    "\n",
    "Imagine the following array a:\n",
    "\n",
    "`>> print(a)` <br>\n",
    "[0, 5, 8, 10]\n",
    "\n",
    "Which of the following commands will give this output:\n",
    "\n",
    "[5, 8]\n",
    "\n",
    "a) print(a[1, 2])\n",
    "\n",
    "b) print(a[2:3])\n",
    "\n",
    "c) print(a[1:2])\n",
    "\n",
    "d) print(a[[1, 2]])\n",
    "\n",
    "e) print(a[a<10])\n",
    "\n",
    "You can test your guess by creating the a array:\n",
    "\n",
    "a = np.array([0, 5, 8, 10])"
   ]
  },
  {
   "cell_type": "markdown",
   "metadata": {},
   "source": [
    "You can assign elements with slices and indexes:"
   ]
  },
  {
   "cell_type": "code",
   "execution_count": null,
   "metadata": {
    "collapsed": false,
    "jupyter": {
     "outputs_hidden": false
    }
   },
   "outputs": [],
   "source": [
    "a = np.arange(9)\n",
    "print(a)"
   ]
  },
  {
   "cell_type": "code",
   "execution_count": null,
   "metadata": {
    "collapsed": false,
    "jupyter": {
     "outputs_hidden": false
    }
   },
   "outputs": [],
   "source": [
    "a[1:8:2]=1000\n",
    "print(a)"
   ]
  },
  {
   "cell_type": "markdown",
   "metadata": {},
   "source": [
    "## $\\color{green}{\\text{Excercise}}$ view or copy\n",
    "\n",
    "Create a 3x4 array of values from 0 to 11. Create another array as follows: y = x[2]. What happens when you modify y — does x also change?<br>\n",
    "Now try y = x[:2] and modify it’s first element. What happens now?"
   ]
  },
  {
   "cell_type": "markdown",
   "metadata": {},
   "source": [
    "## $\\color{green}{\\text{Excercise}}$ checkerboard\n",
    "    \n",
    "Create 8x8 array of zeros and fill it with a checkerboard pattern . \n",
    "You can use plt.imshow() to visualize your array\n",
    "\n",
    "\n",
    "<img src=\"../images/checkerboard.svg\"  width=400 height=400>"
   ]
  },
  {
   "cell_type": "markdown",
   "metadata": {},
   "source": [
    "[Previous: Filtering data](filtering_data.ipynb)<br>[Next: Operations](operations.ipynb)"
   ]
  }
 ],
 "metadata": {
  "kernelspec": {
   "display_name": "Python 3 (ipykernel)",
   "language": "python",
   "name": "python3"
  },
  "language_info": {
   "codemirror_mode": {
    "name": "ipython",
    "version": 3
   },
   "file_extension": ".py",
   "mimetype": "text/x-python",
   "name": "python",
   "nbconvert_exporter": "python",
   "pygments_lexer": "ipython3",
   "version": "3.8.12"
  }
 },
 "nbformat": 4,
 "nbformat_minor": 4
}
